{
 "cells": [
  {
   "cell_type": "markdown",
   "metadata": {},
   "source": [
    "# Laboration 4: Skriva era första Python-program\n",
    "\n",
    "I denna laboration ska ni skriva era första Python-program. Ni ska skriva tre stycken program som åstadkommer några enkla uppgifter. Programmen ska vara skrivna i Python och ha ändelsen `.py`. Ni kan skriva programmen här på JupyterHub och sedan kopiera dem till era egna Python filer, eller så kan ni skriva dem direkt i en texteditor som t.ex. `Notepad` eller en IDE(Integrerad utvecklingsmiljö (Integrated development environment)) såsom `Visual Studio Code`.\n",
    "\n",
    "Det är inget krav att ni har Python på er egen datorn för att lösa dessa uppgifter, men om ni har tid så kan det vara en bra övning att skriva och köra programmen på er egen dator.\n",
    "\n",
    "Om ni inte har det installerat kan ni ladda ner det från [Python.org](https://www.python.org/downloads/), eller följa vägledningen på canvas-sidan.\n",
    "\n",
    "\n",
    "* För att köra programmen öppnar ni terminalen och skriver `python program.py`. Kom också ihåg att stå i rätt mapp (directory). Detta kommandot fungerar på både Jupyter och på er egen dator om ni har installerat Python korrekt."
   ]
  },
  {
   "cell_type": "markdown",
   "metadata": {},
   "source": [
    "\n",
    "## **Laboration: Skriva dina första Python-program**  \n",
    "\n",
    "I denna laboration ska ni skriva era första Python-program. Ni ska skapa tre program som löser några enkla uppgifter.  \n",
    "\n",
    "**Krav:**  \n",
    "- Programmen ska vara skrivna i `Python` och ha filändelsen `.py`.  \n",
    "- Ni kan skriva programmen direkt i `JupyterHub` och sedan kopiera dem till separata Python-filer, eller skriva dem direkt i en texteditor som `Notepad` eller en `IDE` (integrerad utvecklingsmiljö) såsom `Visual Studio Code`.  \n",
    "\n",
    "Det är **inget krav** att ha Python installerat på er egen dator för att lösa uppgifterna. Men om ni har tid kan det vara en bra övning att skriva och köra programmen lokalt.  \n",
    "\n",
    "### **Installera Python (valfritt)**  \n",
    "Om ni vill köra programmen på er egen dator kan ni ladda ner och installera `Python` från:  \n",
    "🔗 [Python.org](https://www.python.org/downloads/)  \n",
    "\n",
    "Ni hittar även en vägledning på Canvas-sidan.  \n",
    "\n",
    "### **Köra Python-program**  \n",
    "För att köra era program:  \n",
    "1️⃣ Öppna terminalen.  \n",
    "2️⃣ Skriv kommandot:  \n",
    "   ```sh\n",
    "   python program.py\n",
    "   ```  \n",
    "3️⃣ Se till att ni befinner er i rätt mapp (directory). Ni kan ändra directory i Windows genom att skriva `cd`.  \n",
    "\n",
    "Detta kommando fungerar både i **JupyterHub** och på er egen dator om Python är korrekt installerat.  \n"
   ]
  },
  {
   "cell_type": "markdown",
   "metadata": {},
   "source": [
    "## Uppgift 1: Skriv ett program som skriver ut en slumpmässig hälsning\n",
    "\n",
    "Programmet ska välja en hälsning från en lista av hälsningar och skriva ut den. Ni kan använda er av `random` biblioteket för att slumpa fram en hälsning.\n",
    "\n",
    "Här är en lista av hälsningar ni kan använda:\n",
    "\n",
    "```python\n",
    "hälsningar = [\n",
    "    \"Hej!\",\n",
    "    \"God morgon!\",\n",
    "    \"God dag!\",\n",
    "    \"God kväll!\",\n",
    "    \"Hej då!\"\n",
    "]\n",
    "```\n",
    "\n",
    "Namnge programmet `hälsning.py`."
   ]
  },
  {
   "cell_type": "markdown",
   "metadata": {},
   "source": [
    "## Uppgift 2: Skriv ett program som  tar ett tal som input och skriver ut om det är jämnt eller udda\n",
    "\n",
    "Programmet ska ta ett tal som input och skriva ut om det är jämnt eller udda. För att prompta användaren till att skriva in ett tal kan ni använda er av `input` funktionen. Se också till så att talet som användaren skriver in är ett heltal och inte något annat.\n",
    "\n",
    "T ex. om användaren skriver in `5`så ska programmet skriva ut `5 är ett udda tal`.\n",
    "\n",
    "Namnge programmet `jämnt_eller_udda.py`."
   ]
  },
  {
   "cell_type": "markdown",
   "metadata": {},
   "source": [
    "## Uppgift 3: Skriv ett program som skriver ut en multiplikationstabellen för ett tal\n",
    "\n",
    "Programmet ska ta ett tal som input och skriva ut multiplikationstabellen för det talet. Ni kan använda er av en `for` loop för att skriva ut tabellen.\n",
    "Se till så att talet som användaren skriver in är ett heltal och inte något annat, samt att det är ett tal mellan 1 och 10.\n",
    "\n",
    "\n",
    "Exempelvis om användaren skriver in `5` så ska programmet skriva ut:\n",
    "\n",
    "```python\n",
    "------------\n",
    "5 * 1 = 5\n",
    "5 * 2 = 10\n",
    "5 * 3 = 15\n",
    "5 * 4 = 20\n",
    "5 * 5 = 25\n",
    "5 * 6 = 30\n",
    "5 * 7 = 35\n",
    "5 * 8 = 40\n",
    "5 * 9 = 45\n",
    "5 * 10 = 50\n",
    "------------\n",
    "```\n",
    "\n",
    "Namnge programmet `multiplikationstabell.py`.\n"
   ]
  },
  {
   "cell_type": "markdown",
   "metadata": {},
   "source": [
    "## Uppgift 4: (Frivillig) Skriv ett program som beräknar summan av alla primtal mellan två tal\n",
    "\n",
    "Programmet ska ta två tal som input och skriva ut summan av alla primtal mellan de två talen. Ni kan använda er av en `for` loop för att iterera över alla tal mellan de två talen och en funktion för att kolla om ett tal är ett primtal.\n",
    "\n",
    "Exempelvis om användaren skriver in `1` och `10` ska programmet skriva ut `Summan av alla primtal mellan 1 och 10 är 17`.\n",
    "\n",
    "Begränsa er kod till primtal under 10 000\n",
    "\n",
    "Namnge programmet `summa_av_primtal.py`."
   ]
  },
  {
   "cell_type": "markdown",
   "metadata": {},
   "source": [
    "## Uppgift 5: (Frivillig) \n",
    "\n",
    "Skriv ett program som simulerar 1 till `n` antal tärningskast på en `s` sidig tärning. Ni ska anta att `n` och `s` är heltal och att sannolikheten för att få varje sida är lika stor, dvs. att tärningen är rättvis. \n",
    "\n",
    "Programmet ska skapa en plot med sannoilkhetsfördelningen för tärningskasten som en funktion av antalet tärningskast. Plotten kommer att visa hur sannolikheten för att få varje sida av tärningen ändras med antalet tärningskast och borde konvergera mot en jämn fördelning (dvs. `1/s`). *Tips:* Se igenom uppgift 14 som vi gick igenom på föreläsningen rörande det nationella provet i matematik.\n",
    "\n",
    "I figuren ska alltså x-axeln vara antalet tärningskast och y-axeln sannolikheten för att få en sida. Ploten har alltså `s` antal linjer som representerar varje sida av tärningen. I början bör det vara väldigt volatilt, t ex. efter 1 kast så är den uppskattade sannolikheten 1 för ett slumpmässigt nummer och 0 för alla andra. Kom ihåg att totala sannolikheten ska summera till 1 vid varje antal tärningskast.\n",
    "\n",
    "* Se också till så att programmet skriver ut den uppskattade sannolikheten vid `n` tärningskast (ni kan ta medelvärdet av alla sannolikheter för att få en uppskattning.)\n",
    "\n",
    "* Ni kan använda er av `matplotlib` biblioteket för att skapa plotten. Försök göra den så tydlig och snygg som möjligt.\n",
    "\n",
    "* Vid vilket antal tärningskast tycker ni att sannolikheten är tillräckligt jämn?\n",
    "\n",
    "Namnge programmet `tärningskast.py`."
   ]
  },
  {
   "cell_type": "code",
   "execution_count": null,
   "metadata": {},
   "outputs": [],
   "source": []
  }
 ],
 "metadata": {
  "kernelspec": {
   "display_name": "Python 3 (ipykernel)",
   "language": "python",
   "name": "python3"
  },
  "language_info": {
   "codemirror_mode": {
    "name": "ipython",
    "version": 3
   },
   "file_extension": ".py",
   "mimetype": "text/x-python",
   "name": "python",
   "nbconvert_exporter": "python",
   "pygments_lexer": "ipython3",
   "version": "3.12.0"
  }
 },
 "nbformat": 4,
 "nbformat_minor": 4
}
