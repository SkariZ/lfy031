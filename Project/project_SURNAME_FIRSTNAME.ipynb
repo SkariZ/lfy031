{
 "cells": [
  {
   "cell_type": "markdown",
   "metadata": {},
   "source": [
    "# TITLE OF PROJECT\n",
    "\n",
    "**Name** \\\n",
    "**Course** \\\n",
    "**Date**"
   ]
  },
  {
   "cell_type": "markdown",
   "metadata": {},
   "source": [
    "**Question:** State here a stratightforward question about an aspect of marine science you want to investigate. (max 2 lines)."
   ]
  },
  {
   "cell_type": "markdown",
   "metadata": {},
   "source": [
    "**Scientific context:** Describe briefly the scientific context of your question (max 5 lines)."
   ]
  },
  {
   "cell_type": "markdown",
   "metadata": {},
   "source": [
    "**Method:** Describe here the data you want to visualize to answer your question. Include the link to the website where you have found the data, and information about how you obtained the dataset and about the data format. Explicit the geographic or temporal coverage of the data you are visualizing, and explain how you expect your data visualization to answer your question. (max 10 lines)."
   ]
  },
  {
   "cell_type": "markdown",
   "metadata": {},
   "source": [
    "### Data extraction\n",
    "Here you must read your data file and extract the subset of data you need for your visualization."
   ]
  },
  {
   "cell_type": "code",
   "execution_count": null,
   "metadata": {},
   "outputs": [],
   "source": []
  },
  {
   "cell_type": "markdown",
   "metadata": {},
   "source": [
    "### Data analysis\n",
    "Compute here statistics or indicators that will be used to build your figure."
   ]
  },
  {
   "cell_type": "code",
   "execution_count": null,
   "metadata": {},
   "outputs": [],
   "source": []
  },
  {
   "cell_type": "markdown",
   "metadata": {},
   "source": [
    "### Plotting\n",
    "Create here your visualization. The figure size should be max 18 cm in width and 15 cm in height, and organized in 2-by-2 panels at most.\n",
    "```python\n",
    "# call to subplots to create the figure with maximum allowed size and number of panels\n",
    "fig, axes = plt.subplots(figsize=[18,15],nrows=2,ncols=2)\n",
    "```"
   ]
  },
  {
   "cell_type": "code",
   "execution_count": null,
   "metadata": {},
   "outputs": [],
   "source": []
  },
  {
   "cell_type": "markdown",
   "metadata": {},
   "source": [
    "**Caption:** Write a caption for your figure, describing the content of the figure. (max 5 lines)"
   ]
  },
  {
   "cell_type": "markdown",
   "metadata": {},
   "source": [
    "**Conclusion:** Based on your data visualization, provide here an answer to your initial question and a brief discussion of your result (max 5 lines)."
   ]
  }
 ],
 "metadata": {
  "kernelspec": {
   "display_name": "Python 3",
   "language": "python",
   "name": "python3"
  },
  "language_info": {
   "codemirror_mode": {
    "name": "ipython",
    "version": 3
   },
   "file_extension": ".py",
   "mimetype": "text/x-python",
   "name": "python",
   "nbconvert_exporter": "python",
   "pygments_lexer": "ipython3",
   "version": "3.8.3"
  }
 },
 "nbformat": 4,
 "nbformat_minor": 4
}
