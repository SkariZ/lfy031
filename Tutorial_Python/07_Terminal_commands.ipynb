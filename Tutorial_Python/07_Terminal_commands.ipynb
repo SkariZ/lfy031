{
 "cells": [
  {
   "cell_type": "markdown",
   "metadata": {},
   "source": [
    "# Bash shell basic commands"
   ]
  },
  {
   "cell_type": "markdown",
   "metadata": {},
   "source": [
    "Bash is the command-processor shell that is available on all Linux systems. Among other things, it allows you to send commands to your Operating System to launch jobs and to handle files and user permissions.\n",
    "\n",
    "A good tutorial is available here:\n",
    "https://github.com/The-Bioinformatics-Group/Learning_Unix/wiki/MAV110"
   ]
  },
  {
   "cell_type": "markdown",
   "metadata": {},
   "source": [
    "Bash commands can be executed from a unix terminal (now available on any system, even Windows). A terminal is available in Jupyter Lab in the Launcher.\n",
    "\n",
    "Another option to use the exclamation point `!` in a jupyter notebook. This sends the rest of the line as a command to a hidden terminal. The output message of the command is then reproduced below the cell."
   ]
  },
  {
   "cell_type": "markdown",
   "metadata": {},
   "source": [
    "## ls: list files in a directory"
   ]
  },
  {
   "cell_type": "markdown",
   "metadata": {},
   "source": [
    "Open a Bash terminal and try the following commands:"
   ]
  },
  {
   "cell_type": "code",
   "execution_count": 1,
   "metadata": {},
   "outputs": [
    {
     "name": "stdout",
     "output_type": "stream",
     "text": [
      "01_PythonBasics.ipynb\t      07_Pandas.ipynb\n",
      "02_Terminal_commands.ipynb    08_NetCDF_format.ipynb\n",
      "03_Numpy.ipynb\t\t      09_Xarray.ipynb\n",
      "04_Matplotlib.ipynb\t      MIMOC_ML_v2.2_CT_SA_MLP_month01.nc\n",
      "05_Numpy_Vectorization.ipynb  MIMOC_ML_v2.2_CT_SA.zip\n",
      "06_Scipy_algorithms.ipynb\n"
     ]
    }
   ],
   "source": [
    "!ls # Exclamatory mark in the Python shell allows you to access Bash commands"
   ]
  },
  {
   "cell_type": "markdown",
   "metadata": {},
   "source": [
    "The \"-\" is how you pass options to the command \"ls\""
   ]
  },
  {
   "cell_type": "markdown",
   "metadata": {},
   "source": [
    "An option of -l shows a \"long listing\" with more details. The first column gives information on file permissions. More on that later. The 2nd column shows the number of hard links. The 3rd and 4th columns show the owner and group information (more on that later). The 5th column shows the size of the file in bytes. The next column shows the time when the file was last modified. Finally we see the name of the file."
   ]
  },
  {
   "cell_type": "code",
   "execution_count": 4,
   "metadata": {},
   "outputs": [
    {
     "name": "stdout",
     "output_type": "stream",
     "text": [
      "total 24664\n",
      "-rw-r--r--. 1 1000740000 root    44748 Nov  1 14:22 01_PythonBasics.ipynb\n",
      "-rw-rw-r--. 1 1000740000 root    55793 Nov  1 15:11 02_Terminal_commands.ipynb\n",
      "-rw-r--r--. 1 1000740000 root    28891 Dec  6  2021 03_Numpy.ipynb\n",
      "-rw-r--r--. 1 1000740000 root   531360 Dec  6  2021 04_Matplotlib.ipynb\n",
      "-rw-r--r--. 1 1000740000 root   150358 Nov  1 14:13 05_Numpy_Vectorization.ipynb\n",
      "-rw-r--r--. 1 1000740000 root    72653 Nov  1 14:59 06_Scipy_algorithms.ipynb\n",
      "-rw-r--r--. 1 1000740000 root    71607 Dec  6  2021 07_Pandas.ipynb\n",
      "-rw-r--r--. 1 1000740000 root    14903 Nov  1 14:52 08_NetCDF_format.ipynb\n",
      "-rw-r--r--. 1 1000740000 root   378411 Jan  7  2022 09_Xarray.ipynb\n",
      "-rw-r--r--. 1 1000740000 root  2950820 Jan  7  2022 MIMOC_ML_v2.2_CT_SA_MLP_month01.nc\n",
      "-rw-r--r--. 1 1000740000 root 20805332 Jan  7  2022 MIMOC_ML_v2.2_CT_SA.zip\n"
     ]
    }
   ],
   "source": [
    "!ls -l"
   ]
  },
  {
   "cell_type": "markdown",
   "metadata": {},
   "source": [
    "<br>\n",
    "\n",
    "ls with options \"s\" and \"h\" show the file **s**izes in **h**uman readable format"
   ]
  },
  {
   "cell_type": "code",
   "execution_count": 5,
   "metadata": {},
   "outputs": [
    {
     "name": "stdout",
     "output_type": "stream",
     "text": [
      "total 25M\n",
      " 48K 01_PythonBasics.ipynb\t    76K 07_Pandas.ipynb\n",
      " 60K 02_Terminal_commands.ipynb     16K 08_NetCDF_format.ipynb\n",
      " 36K 03_Numpy.ipynb\t\t   376K 09_Xarray.ipynb\n",
      "524K 04_Matplotlib.ipynb\t   2.9M MIMOC_ML_v2.2_CT_SA_MLP_month01.nc\n",
      "152K 05_Numpy_Vectorization.ipynb   20M MIMOC_ML_v2.2_CT_SA.zip\n",
      " 76K 06_Scipy_algorithms.ipynb\n"
     ]
    }
   ],
   "source": [
    "!ls -sh"
   ]
  },
  {
   "cell_type": "markdown",
   "metadata": {},
   "source": [
    "The number of available options is usually very large. The behaviour of a given command can be profoundly modified by the use of combinations of options."
   ]
  },
  {
   "cell_type": "code",
   "execution_count": 7,
   "metadata": {},
   "outputs": [
    {
     "name": "stdout",
     "output_type": "stream",
     "text": [
      "total 25M\n",
      " 76K -rw-r--r--. 1 1000740000 root  70K Dec  6  2021 07_Pandas.ipynb\n",
      "524K -rw-r--r--. 1 1000740000 root 519K Dec  6  2021 04_Matplotlib.ipynb\n",
      " 36K -rw-r--r--. 1 1000740000 root  29K Dec  6  2021 03_Numpy.ipynb\n",
      " 20M -rw-r--r--. 1 1000740000 root  20M Jan  7  2022 MIMOC_ML_v2.2_CT_SA.zip\n",
      "2.9M -rw-r--r--. 1 1000740000 root 2.9M Jan  7  2022 MIMOC_ML_v2.2_CT_SA_MLP_month01.nc\n",
      "376K -rw-r--r--. 1 1000740000 root 370K Jan  7  2022 09_Xarray.ipynb\n",
      "152K -rw-r--r--. 1 1000740000 root 147K Nov  1 14:13 05_Numpy_Vectorization.ipynb\n",
      " 48K -rw-r--r--. 1 1000740000 root  44K Nov  1 14:22 01_PythonBasics.ipynb\n",
      " 16K -rw-r--r--. 1 1000740000 root  15K Nov  1 14:52 08_NetCDF_format.ipynb\n",
      " 76K -rw-r--r--. 1 1000740000 root  71K Nov  1 14:59 06_Scipy_algorithms.ipynb\n",
      " 48K -rw-rw-r--. 1 1000740000 root  42K Nov  1 15:13 02_Terminal_commands.ipynb\n"
     ]
    }
   ],
   "source": [
    "!ls -lrtsh"
   ]
  },
  {
   "cell_type": "markdown",
   "metadata": {},
   "source": [
    "## mkdir: create a new directory"
   ]
  },
  {
   "cell_type": "code",
   "execution_count": 2,
   "metadata": {},
   "outputs": [],
   "source": [
    "!mkdir newFolder"
   ]
  },
  {
   "cell_type": "markdown",
   "metadata": {},
   "source": [
    "## cd: Change Directory "
   ]
  },
  {
   "cell_type": "markdown",
   "metadata": {},
   "source": [
    "Next, we try out the \"cd\" command. \n",
    "\n",
    "```\n",
    "sh-4.4$ mkdir newFolder\n",
    "sh-4.4$ ls\n",
    "co2_mm_mlo.txt  lost+found  MAR440  MAR440_PythonWorkshop.zip  MAV110_DEC2021  miniconda3  Miniconda3-py38_4.10.3-Linux-x86_64.sh  newFolder  shared  typescript\n",
    "sh-4.4$ cd newFolder\n",
    "sh-4.4$ ls\n",
    "sh-4.4$ pwd\n",
    "/opt/app-root/src/newFolder\n",
    "sh-4.4$ cd ../\n",
    "sh-4.4$ pwd\n",
    "/opt/app-root/src\n",
    "sh-4.4$ ls\n",
    "co2_mm_mlo.txt  lost+found  MAR440  MAR440_PythonWorkshop.zip  MAV110_DEC2021  miniconda3  Miniconda3-py38_4.10.3-Linux-x86_64.sh  newFolder  shared  typescript\n",
    "sh-4.4$ cd ./MAV110_DEC2021/solutions/\n",
    "sh-4.4$ ls\n",
    "sol_00_01.py  sol_02_04.py       sol_disp_scipy.py        sol_linear_regression.py  sol_np_reshape.py       sol_scipy_SIR.py\n",
    "sol_00_02.py  sol_dispersion.py  sol_linear_curve_fit.py  sol_mult.py               sol_poly2_curve_fit.py\n",
    "sh-4.4$ pwd\n",
    "/opt/app-root/src/MAV110_DEC2021/solutions\n",
    "sh-4.4$ cd ../../\n",
    "sh-4.4$ pwd\n",
    "/opt/app-root/src\n",
    "```"
   ]
  },
  {
   "cell_type": "markdown",
   "metadata": {},
   "source": [
    "We start any path in Linux with the forward slash \"/\". To access the current directory, we use dot-slash: \"./\"\n",
    "\n",
    "A path of \"../\" will take you one directory level up. You can go up multiple levels by having multiple dot-dot-slashes: ../../../ this will take you 3 levels up"
   ]
  },
  {
   "cell_type": "markdown",
   "metadata": {},
   "source": [
    "## pwd: print work directory"
   ]
  },
  {
   "cell_type": "markdown",
   "metadata": {},
   "source": [
    "This command tells you in which folder you are currently."
   ]
  },
  {
   "cell_type": "code",
   "execution_count": 10,
   "metadata": {},
   "outputs": [
    {
     "name": "stdout",
     "output_type": "stream",
     "text": [
      "/opt/app-root/src/shared/mav110_H22/Tutorial\n"
     ]
    }
   ],
   "source": [
    "!pwd"
   ]
  },
  {
   "cell_type": "markdown",
   "metadata": {},
   "source": [
    "## echo: output a chain of strings into the terminal"
   ]
  },
  {
   "cell_type": "code",
   "execution_count": 15,
   "metadata": {},
   "outputs": [
    {
     "name": "stdout",
     "output_type": "stream",
     "text": [
      "Hello World!\n"
     ]
    }
   ],
   "source": [
    "!echo \"Hello World!\""
   ]
  },
  {
   "cell_type": "markdown",
   "metadata": {},
   "source": [
    "At the end of any command, use the character `>` followed by a file name to save the output of the command in that file."
   ]
  },
  {
   "cell_type": "code",
   "execution_count": 8,
   "metadata": {},
   "outputs": [],
   "source": [
    "!echo \"Hello World!\" > helloWorld.txt"
   ]
  },
  {
   "cell_type": "markdown",
   "metadata": {},
   "source": [
    "## cat: print text file in terminal"
   ]
  },
  {
   "cell_type": "code",
   "execution_count": 19,
   "metadata": {},
   "outputs": [
    {
     "name": "stdout",
     "output_type": "stream",
     "text": [
      "Hello World!\n"
     ]
    }
   ],
   "source": [
    "!cat helloWorld.txt"
   ]
  },
  {
   "cell_type": "markdown",
   "metadata": {},
   "source": [
    "## rm: Deleting files and folders\n",
    "\n",
    "Add the recursive option **-r** when you want to delete a directory and all it's subdirectories."
   ]
  },
  {
   "cell_type": "code",
   "execution_count": null,
   "metadata": {},
   "outputs": [],
   "source": [
    "!rm helloWorld.txt"
   ]
  },
  {
   "cell_type": "code",
   "execution_count": 16,
   "metadata": {},
   "outputs": [],
   "source": [
    "!echo \"Hello World!\" > helloWorld.txt"
   ]
  },
  {
   "cell_type": "markdown",
   "metadata": {},
   "source": [
    "<br>\n",
    "\n",
    "Let's understand file permissions\n",
    "\n",
    "```\n",
    "sh-4.4$ \n",
    "sh-4.4$ cd shared\n",
    "sh-4.4$ ls -l\n",
    "total 28\n",
    "drwxr-xr-x. 5 1000740000 root 4096 Dec  7 07:43 archive\n",
    "drwxr-xr-x. 3 1000740000 root 4096 May  3  2021 Exercises\n",
    "drwxr-xr-x. 2 1000740000 root 4096 Mar 26  2021 mar450\n",
    "drwxr-xr-x. 4 1000740000 root 4096 Oct 29 09:47 mav102_HT21\n",
    "drwxr-xr-x. 3 1000740000 root 4096 Dec  7 07:54 mav104_HT21\n",
    "drwxr-xr-x. 3 1000740000 root 4096 Dec  6 10:45 mav110_PythonModule\n",
    "drwxr-xr-x. 3 1000740000 root 4096 Mar 26  2021 tmp\n",
    "```\n",
    "\n",
    "The very first letter \"d\" shows that the file is a directory. Note that in Linux, directories are just files that contain the names of other files. The next 3 letters indicate that the owner has permissions to read (r), write (w), and execute (x). The next 3 places contain permissions for the group, and the next 3 places are permissions for all other users."
   ]
  },
  {
   "cell_type": "markdown",
   "metadata": {},
   "source": [
    "How can you change file permissions?"
   ]
  },
  {
   "cell_type": "code",
   "execution_count": 23,
   "metadata": {},
   "outputs": [
    {
     "name": "stdout",
     "output_type": "stream",
     "text": [
      "-rw-r--r--. 1 1000740000 1000740000 1633313 Nov  9 14:39 CO2_MaunaLoa.txt\n",
      "-rw-r--r--. 1 1000740000 1000740000 1584183 Nov  9 15:14 co2_mlo_surface-flask_1_ccgg_event.txt\n",
      "-rw-r--r--. 1 1000740000 1000740000   56287 Nov 16 13:58 co2_mm_mlo.txt\n",
      "-rw-r--r--. 1 1000740000 1000740000      13 Dec  9 15:57 helloWorld.txt\n"
     ]
    }
   ],
   "source": [
    "!ls *.txt -l"
   ]
  },
  {
   "cell_type": "markdown",
   "metadata": {},
   "source": [
    "The * allows us to match patterns."
   ]
  },
  {
   "cell_type": "markdown",
   "metadata": {},
   "source": [
    "## cp: copy files from source to destination"
   ]
  },
  {
   "cell_type": "code",
   "execution_count": 30,
   "metadata": {},
   "outputs": [],
   "source": [
    "!cp ./helloEarth.txt ./helloWorld_copy.txt"
   ]
  },
  {
   "cell_type": "code",
   "execution_count": 31,
   "metadata": {},
   "outputs": [
    {
     "name": "stdout",
     "output_type": "stream",
     "text": [
      "-rw-r--r--. 1 1000740000 1000740000 1633313 Nov  9 14:39 CO2_MaunaLoa.txt\n",
      "-rw-r--r--. 1 1000740000 1000740000 1584183 Nov  9 15:14 co2_mlo_surface-flask_1_ccgg_event.txt\n",
      "-rw-r--r--. 1 1000740000 1000740000   56287 Nov 16 13:58 co2_mm_mlo.txt\n",
      "-rwxr--r--. 1 1000740000 1000740000      13 Dec  9 15:57 helloEarth.txt\n",
      "-rwxr--r--. 1 1000740000 1000740000      13 Dec  9 16:30 helloWorld_copy.txt\n"
     ]
    }
   ],
   "source": [
    "!ls *.txt -l"
   ]
  },
  {
   "cell_type": "markdown",
   "metadata": {},
   "source": [
    "## Relative path versus absolute path\n",
    "\n",
    "We have been using relative paths with ./\n",
    "\n",
    "But we could have also specified the full path to the current directory rather than the relative paths. The commands would still behave in the same way. It is just more convenient to write out the relative paths."
   ]
  },
  {
   "cell_type": "code",
   "execution_count": 33,
   "metadata": {},
   "outputs": [
    {
     "name": "stdout",
     "output_type": "stream",
     "text": [
      "/opt/app-root/src/MAV110_DEC2021\n"
     ]
    }
   ],
   "source": [
    "!pwd"
   ]
  },
  {
   "cell_type": "code",
   "execution_count": 34,
   "metadata": {},
   "outputs": [
    {
     "name": "stdout",
     "output_type": "stream",
     "text": [
      "00_PythonBasics.ipynb\n",
      "01_Numpy.ipynb\n",
      "02_NumpyComputation.ipynb\n",
      "03_Numpy_Computation.ipynb\n",
      "04_Numpy_SIR.ipynb\n",
      "05_Pandas.ipynb\n",
      "06_Pandas_Keeling.ipynb\n",
      "assignment1.ipynb\n",
      "bash_basics.ipynb\n",
      "CO2_MaunaLoa.txt\n",
      "co2_mlo_surface-flask_1_ccgg_event.txt\n",
      "co2_mm_mlo.txt\n",
      "helloEarth.txt\n",
      "helloWorld_copy.txt\n",
      "install_modules_python3.8.ipynb\n",
      "LICENSE\n",
      "Matplotlib_intro.ipynb\n",
      "solutions\n",
      "Time_series_and_Linear_Regression_Keeling_curve.ipynb\n",
      "typescript\n"
     ]
    }
   ],
   "source": [
    "!ls /opt/app-root/src/MAV110_DEC2021/"
   ]
  },
  {
   "cell_type": "markdown",
   "metadata": {},
   "source": [
    "# Compressing and Uncompressing files\n",
    "\n",
    "**Compression** <br>\n",
    "**tar** -cvf name_of_archive.tzr.gz /path/to/file1 /path/to/file2\n",
    "\n",
    "**Uncompression** <br>\n",
    "**tar** -xvf name_of_archive.tzr.gz -C /path/to/output/directory\n"
   ]
  },
  {
   "cell_type": "code",
   "execution_count": 35,
   "metadata": {},
   "outputs": [
    {
     "name": "stdout",
     "output_type": "stream",
     "text": [
      "./helloEarth.txt\n",
      "./helloWorld_copy.txt\n"
     ]
    }
   ],
   "source": [
    "!tar -cvf Hellos.tar.gz ./helloEarth.txt ./helloWorld_copy.txt"
   ]
  },
  {
   "cell_type": "code",
   "execution_count": 36,
   "metadata": {},
   "outputs": [],
   "source": [
    "!mkdir Hellos"
   ]
  },
  {
   "cell_type": "code",
   "execution_count": 37,
   "metadata": {},
   "outputs": [
    {
     "name": "stdout",
     "output_type": "stream",
     "text": [
      "./helloEarth.txt\n",
      "./helloWorld_copy.txt\n"
     ]
    }
   ],
   "source": [
    "!tar -xvf Hellos.tar.gz -C ./Hellos/"
   ]
  },
  {
   "cell_type": "code",
   "execution_count": 38,
   "metadata": {},
   "outputs": [
    {
     "name": "stdout",
     "output_type": "stream",
     "text": [
      "helloEarth.txt\thelloWorld_copy.txt\n"
     ]
    }
   ],
   "source": [
    "!ls ./Hellos"
   ]
  },
  {
   "cell_type": "code",
   "execution_count": 39,
   "metadata": {},
   "outputs": [
    {
     "name": "stdout",
     "output_type": "stream",
     "text": [
      "  adding: helloEarth.txt (stored 0%)\n",
      "  adding: helloWorld_copy.txt (stored 0%)\n"
     ]
    }
   ],
   "source": [
    "!zip Hellos.zip ./helloEarth.txt ./helloWorld_copy.txt"
   ]
  },
  {
   "cell_type": "code",
   "execution_count": 40,
   "metadata": {},
   "outputs": [],
   "source": [
    "!rm ./Hellos/*"
   ]
  },
  {
   "cell_type": "code",
   "execution_count": 41,
   "metadata": {},
   "outputs": [
    {
     "name": "stdout",
     "output_type": "stream",
     "text": [
      "Archive:  Hellos.zip\n",
      " extracting: ./Hellos/helloEarth.txt  \n",
      " extracting: ./Hellos/helloWorld_copy.txt  \n"
     ]
    }
   ],
   "source": [
    "!unzip Hellos.zip -d ./Hellos/"
   ]
  },
  {
   "cell_type": "code",
   "execution_count": 42,
   "metadata": {},
   "outputs": [
    {
     "name": "stdout",
     "output_type": "stream",
     "text": [
      "helloEarth.txt\thelloWorld_copy.txt\n"
     ]
    }
   ],
   "source": [
    "!ls ./Hellos"
   ]
  }
 ],
 "metadata": {
  "kernelspec": {
   "display_name": "Python 3",
   "language": "python",
   "name": "python3"
  },
  "language_info": {
   "codemirror_mode": {
    "name": "ipython",
    "version": 3
   },
   "file_extension": ".py",
   "mimetype": "text/x-python",
   "name": "python",
   "nbconvert_exporter": "python",
   "pygments_lexer": "ipython3",
   "version": "3.8.3"
  }
 },
 "nbformat": 4,
 "nbformat_minor": 5
}
