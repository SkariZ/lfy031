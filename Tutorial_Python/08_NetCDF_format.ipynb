{
 "cells": [
  {
   "cell_type": "markdown",
   "metadata": {},
   "source": [
    "# How to read a netCDF file with python\n",
    "\n",
    "The format netCDF is a popular data fromat used in Earth science to store gridded dataset. The format is particularly well suited for model outputs and gridded observational datasets. One key advantage of netCDF is that it is self-describing, meaning that the information needed to describe the stored data (called the *metadata*) is available directly in the same file in the form of *attributes*.\n",
    "\n",
    "The standard module to read and write netCDF file in python is called netCDF4. Complete documentation can be found here: http://unidata.github.io/netcdf4-python/netCDF4/index.html\n",
    "\n",
    "There are also more advanced modules to read and write netCDF files, such as the module *xarray*. While these modules provide high-level functions to manipulate netCDF files, they tend to hide important details about the structure of these files. It is therefore recommended to know how to use a low-level module such as *netCDF4* before trying to use more advanced and powerful modules such as *xarray*."
   ]
  },
  {
   "cell_type": "code",
   "execution_count": 5,
   "metadata": {},
   "outputs": [],
   "source": [
    "# load netCDF4 module\n",
    "import netCDF4 as nc \n",
    "\n",
    "# if an error is issued, you need to install the module netCDF4.\n",
    "# In that case, open a terminal and execute the following command: pip install netCDF4\n",
    "# Then restart your Kernel, and try again to execute the import command. No error should be issued anymore."
   ]
  },
  {
   "cell_type": "code",
   "execution_count": 6,
   "metadata": {},
   "outputs": [
    {
     "name": "stdout",
     "output_type": "stream",
     "text": [
      "Content of the netCDF file:  <class 'netCDF4.Dataset'>\n",
      "root group (NETCDF4 data model, file format HDF5):\n",
      "    Conventions: CF-1.11\n",
      "    title: Global Ocean - Coriolis Observation Re-Analysis CORA5.2 \n",
      "    institution: OceanScope\n",
      "    source: ISAS-V8\n",
      "    history: 20240604T073040L : Creation\n",
      "    references: Szekely et al. 2020, doi: 10.17882/46219 \n",
      "    comment: V8.0 reference climatology and analysis parameters\n",
      "    subset:source: ARCO data downloaded from the Marine Data Store using the MyOcean Data Portal\n",
      "    subset:productId: INSITU_GLO_PHY_TS_OA_MY_013_052\n",
      "    subset:datasetId: cmems_obs-ins_glo_phy-temp-sal_my_cora-oa_P1M_202411\n",
      "    subset:date: 2024-12-16T21:21:21.745Z\n",
      "    dimensions(sizes): time(1), depth(1), latitude(1671), longitude(720)\n",
      "    variables(dimensions): float64 time(time), float32 depth(depth), float32 latitude(latitude), float32 longitude(longitude), float32 PSAL(time, depth, latitude, longitude), float32 TEMP(time, depth, latitude, longitude)\n",
      "    groups: \n"
     ]
    }
   ],
   "source": [
    "# check that the netCDF file is accessible\n",
    "import netCDF4 as nc\n",
    "nc_file = 'cmems_obs-ins_glo_phy-temp-sal_my_cora-oa_P1M_1734384081745.nc'\n",
    "nc_fid =  nc.Dataset(nc_file)\n",
    "print(\"Content of the netCDF file: \", nc_fid)\n",
    "nc_fid.close()"
   ]
  },
  {
   "cell_type": "markdown",
   "metadata": {},
   "source": [
    "## Structure of netCDF files"
   ]
  },
  {
   "cell_type": "code",
   "execution_count": 7,
   "metadata": {},
   "outputs": [
    {
     "name": "stdout",
     "output_type": "stream",
     "text": [
      "<class 'netCDF4.Dataset'>\n",
      "root group (NETCDF4 data model, file format HDF5):\n",
      "    Conventions: CF-1.11\n",
      "    title: Global Ocean - Coriolis Observation Re-Analysis CORA5.2 \n",
      "    institution: OceanScope\n",
      "    source: ISAS-V8\n",
      "    history: 20240604T073040L : Creation\n",
      "    references: Szekely et al. 2020, doi: 10.17882/46219 \n",
      "    comment: V8.0 reference climatology and analysis parameters\n",
      "    subset:source: ARCO data downloaded from the Marine Data Store using the MyOcean Data Portal\n",
      "    subset:productId: INSITU_GLO_PHY_TS_OA_MY_013_052\n",
      "    subset:datasetId: cmems_obs-ins_glo_phy-temp-sal_my_cora-oa_P1M_202411\n",
      "    subset:date: 2024-12-16T21:21:21.745Z\n",
      "    dimensions(sizes): time(1), depth(1), latitude(1671), longitude(720)\n",
      "    variables(dimensions): float64 time(time), float32 depth(depth), float32 latitude(latitude), float32 longitude(longitude), float32 PSAL(time, depth, latitude, longitude), float32 TEMP(time, depth, latitude, longitude)\n",
      "    groups: \n"
     ]
    }
   ],
   "source": [
    "import netCDF4 as nc\n",
    "\n",
    "nc_file = 'cmems_obs-ins_glo_phy-temp-sal_my_cora-oa_P1M_1734384081745.nc'\n",
    "\n",
    "# the 'with' statement can be used to open a file temporarily and close it automatically when leaving the code block\n",
    "with nc.Dataset(nc_file) as nc_fid:\n",
    "    print(nc_fid)"
   ]
  },
  {
   "cell_type": "markdown",
   "metadata": {},
   "source": [
    "Every netCDF files contains METADATA about the data in the file. This METADATA is broken down into variables, dimensions, and attributes.\n",
    "* Variables. Variables contain data stored in the NetCDF file. This data is typically in the form of a multidimensional array. Scalar values are stored as 0-dimension arrays.\n",
    "* Dimensions. Dimensions can be used to describe physical space (latitude, longitude, height, and time) or indices of other quantities (e.g. weather station identifiers).\n",
    "* Attributes. Attributes are modifiers for variables and dimensions. Attributes act as ancillary data to help provide context. An example of an attribute would be a variable's units or fill/missing values.\n",
    "\n",
    "Look at the information provided above for your netCDF file. The file has two dimensions (LONG, LAT).\n",
    "Variables that gives values for each element of a dimension are called *Coordinates*. Here LATITUDE and LONGITUDE are the two coordinates.\n",
    "Then, the file contains three variables of dimension (LAT, LON), i.e.e there are 2D tables. The size of these tables is thus (341,720).\n",
    "\n",
    "This can be checked by using the .shape attribute:\n"
   ]
  },
  {
   "cell_type": "code",
   "execution_count": 8,
   "metadata": {},
   "outputs": [
    {
     "name": "stdout",
     "output_type": "stream",
     "text": [
      "Dim of Surface Temperature array = (1, 1, 1671, 720)\n",
      "Dim of Surface Salinity array = (1, 1, 1671, 720)\n"
     ]
    }
   ],
   "source": [
    "with nc.Dataset(nc_file) as nc_fid:\n",
    "    print(f\"Dim of Surface Temperature array = {nc_fid['TEMP'].shape}\")\n",
    "    print(f\"Dim of Surface Salinity array = {nc_fid['PSAL'].shape}\")"
   ]
  },
  {
   "cell_type": "markdown",
   "metadata": {},
   "source": [
    "### List of dimensions"
   ]
  },
  {
   "cell_type": "markdown",
   "metadata": {},
   "source": [
    "Below, we will create a dictionary with the name of dimension as entry and their value giving the size of the dimension."
   ]
  },
  {
   "cell_type": "code",
   "execution_count": 9,
   "metadata": {},
   "outputs": [
    {
     "name": "stdout",
     "output_type": "stream",
     "text": [
      "{'time': 1, 'depth': 1, 'latitude': 1671, 'longitude': 720}\n"
     ]
    }
   ],
   "source": [
    "nc_file = 'cmems_obs-ins_glo_phy-temp-sal_my_cora-oa_P1M_1734384081745.nc'\n",
    "with nc.Dataset(nc_file) as nc_fid:\n",
    "    dict_dimensions = {}\n",
    "    for dim in nc_fid.dimensions:\n",
    "        dict_dimensions[dim] = nc_fid.dimensions[dim].size\n",
    "    \n",
    "print(dict_dimensions)"
   ]
  },
  {
   "cell_type": "markdown",
   "metadata": {},
   "source": [
    "### List of variables"
   ]
  },
  {
   "cell_type": "code",
   "execution_count": 10,
   "metadata": {},
   "outputs": [
    {
     "name": "stdout",
     "output_type": "stream",
     "text": [
      "{'time': [(1,), dtype('float64')], 'depth': [(1,), dtype('float32')], 'latitude': [(1671,), dtype('float32')], 'longitude': [(720,), dtype('float32')], 'PSAL': [(1, 1, 1671, 720), dtype('float32')], 'TEMP': [(1, 1, 1671, 720), dtype('float32')]}\n"
     ]
    }
   ],
   "source": [
    "nc_file = 'cmems_obs-ins_glo_phy-temp-sal_my_cora-oa_P1M_1734384081745.nc'\n",
    "with nc.Dataset(nc_file) as nc_fid:\n",
    "    dict_variables = {}\n",
    "    for var in nc_fid.variables:\n",
    "        dict_variables[var] = [nc_fid.variables[var].shape, nc_fid.variables[var].dtype]\n",
    "    \n",
    "print(dict_variables)"
   ]
  },
  {
   "cell_type": "markdown",
   "metadata": {},
   "source": [
    "## Access data in a variable"
   ]
  },
  {
   "cell_type": "markdown",
   "metadata": {},
   "source": [
    "To look at the data, you must use the syntax nc_fid['VARIABLE'][:]. Note that the last '[:]' means that you want to look the values in the variable. \n",
    "\n",
    "* If you want only to look at the first value, you would use index '[0]'.\n",
    "* If you want only to look at the last value, you would use index '[-1]'.\n",
    "* If you want only to look at every second values, you would use index '[::2]'.\n"
   ]
  },
  {
   "cell_type": "code",
   "execution_count": null,
   "metadata": {},
   "outputs": [],
   "source": [
    "nc_file = 'cmems_obs-ins_glo_phy-temp-sal_my_cora-oa_P1M_1734384081745.nc'\n",
    "with nc.Dataset(nc_file) as nc_fid:\n",
    "    latitude = nc_fid['latitude'][:] # print all the latitude values\n",
    "\n",
    "print('LATITUDE = ', latitude)\n",
    "print('First value = ', latitude[0])\n",
    "print('Last value = ', latitude[-1])\n",
    "print('Print every second values = ', latitude[::2])"
   ]
  },
  {
   "cell_type": "code",
   "execution_count": null,
   "metadata": {},
   "outputs": [],
   "source": [
    "nc_file = 'cmems_obs-ins_glo_phy-temp-sal_my_cora-oa_P1M_1734384081745.nc'\n",
    "with nc.Dataset(nc_file) as nc_fid:\n",
    "    latitude = nc_fid['latitude'][:] # print all the latitude values\n",
    "    longitude = nc_fid['longitude'][:] # print all the latitude values\n",
    "    \n",
    "# print first and last value separately\n",
    "print(longitude[0], latitude[-1])\n",
    "\n",
    "# create a list with first and last values of Longitude\n",
    "print(longitude[[0,-1]])"
   ]
  },
  {
   "cell_type": "markdown",
   "metadata": {},
   "source": [
    "Let's read all the data from the netCDF file:"
   ]
  },
  {
   "cell_type": "code",
   "execution_count": 14,
   "metadata": {},
   "outputs": [
    {
     "name": "stdout",
     "output_type": "stream",
     "text": [
      "[[[[-0.9125576019287109 -0.9214654564857483 -0.92674320936203 ...\n",
      "    -0.9547644257545471 -0.9644861817359924 -0.9725785255432129]\n",
      "   [-0.917874276638031 -0.9258949160575867 -0.9338327050209045 ...\n",
      "    -0.9715983867645264 -0.9786617755889893 -0.9876413941383362]\n",
      "   [-0.9257180094718933 -0.934576153755188 -0.9425758123397827 ...\n",
      "    -0.9865783452987671 -0.993578314781189 -1.0034362077713013]\n",
      "   ...\n",
      "   [-- -- -- ... -- -- --]\n",
      "   [-- -- -- ... -- -- --]\n",
      "   [-- -- -- ... -- -- --]]]]\n"
     ]
    }
   ],
   "source": [
    "# load netcdf module\n",
    "import netCDF4 as nc\n",
    "\n",
    "# load latitude, longitude and data in python variable data\n",
    "nc_file = 'cmems_obs-ins_glo_phy-temp-sal_my_cora-oa_P1M_1734384081745.nc'\n",
    "with nc.Dataset(nc_file) as nc_fid:\n",
    "    LATITUDE = nc_fid['latitude'][:] # print all the latitude values\n",
    "    LONGITUDE = nc_fid['longitude'][:] # print all the latitude values\n",
    "    TEMPERATURE = nc_fid['TEMP'][:,:] # note that it's a 2-dim variable\n",
    "    SALINITY = nc_fid['PSAL'][:,:] # note that it's a 2-dim variable\n",
    "\n",
    "print(TEMPERATURE)"
   ]
  },
  {
   "cell_type": "markdown",
   "metadata": {},
   "source": [
    "## Some statistics and plots..."
   ]
  },
  {
   "cell_type": "code",
   "execution_count": 15,
   "metadata": {},
   "outputs": [
    {
     "name": "stdout",
     "output_type": "stream",
     "text": [
      "mean TEMPERATURE: 14.050055\n",
      "std TEMPERATURE: 11.69037\n"
     ]
    }
   ],
   "source": [
    "# print global mean and standard deviation of temperature (use nanmean and nanstd to ignore NaN values)\n",
    "import numpy as np\n",
    "print('mean TEMPERATURE:',np.nanmean(TEMPERATURE))\n",
    "print('std TEMPERATURE:',np.nanstd(TEMPERATURE))"
   ]
  },
  {
   "cell_type": "code",
   "execution_count": 16,
   "metadata": {},
   "outputs": [
    {
     "name": "stdout",
     "output_type": "stream",
     "text": [
      "max TEMPERATURE: 30.936134\n",
      "index_flattened =  480131\n",
      "index_2d =  (0, 0, 666, 611)\n",
      "latitude_max =  -77.0\n",
      "longitude_max =  -180.0\n",
      "check that max is reached at position given by index_2d: TEMPERATURE[index_2d]= 30.936134\n"
     ]
    }
   ],
   "source": [
    "# print the maximum temperature and indicate at which location the maximum temperature is reached\n",
    "import numpy as np\n",
    "print('max TEMPERATURE:',np.nanmax(TEMPERATURE))\n",
    "index_flattened = np.nanargmax(TEMPERATURE)\n",
    "index_2d = np.unravel_index(index_flattened, TEMPERATURE.shape )\n",
    "print('index_flattened = ',index_flattened)\n",
    "print('index_2d = ',index_2d)\n",
    "print('latitude_max = ',LATITUDE[index_2d[0]])\n",
    "print('longitude_max = ',LONGITUDE[index_2d[1]])\n",
    "\n",
    "print('check that max is reached at position given by index_2d: TEMPERATURE[index_2d]=',TEMPERATURE[index_2d])"
   ]
  },
  {
   "cell_type": "markdown",
   "metadata": {},
   "source": [
    "## Try it yourself"
   ]
  },
  {
   "cell_type": "markdown",
   "metadata": {},
   "source": [
    "* What is the global mean surface temperature?\n",
    "* Can you plot the meridional section of surface temperature at a longitude crossing the centre Baltic proper?"
   ]
  },
  {
   "cell_type": "code",
   "execution_count": null,
   "metadata": {},
   "outputs": [],
   "source": []
  }
 ],
 "metadata": {
  "kernelspec": {
   "display_name": "Python 3 (ipykernel)",
   "language": "python",
   "name": "python3"
  },
  "language_info": {
   "codemirror_mode": {
    "name": "ipython",
    "version": 3
   },
   "file_extension": ".py",
   "mimetype": "text/x-python",
   "name": "python",
   "nbconvert_exporter": "python",
   "pygments_lexer": "ipython3",
   "version": "3.12.7"
  }
 },
 "nbformat": 4,
 "nbformat_minor": 4
}
