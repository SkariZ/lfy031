{
 "cells": [
  {
   "cell_type": "markdown",
   "metadata": {},
   "source": [
    "# How to read a netCDF file with python\n",
    "\n",
    "The format netCDF is a popular data fromat used in Earth science to store gridded dataset. The format is particularly well suited for model outputs and gridded observational datasets. One key advantage of netCDF is that it is self-describing, meaning that the information needed to describe the stored data (called the *metadata*) is available directly in the same file in the form of *attributes*.\n",
    "\n",
    "The standard module to read and write netCDF file in python is called netCDF4. Complete documentation can be found here: http://unidata.github.io/netcdf4-python/netCDF4/index.html\n",
    "\n",
    "A good tutorial on netCDF4 can be found here:\n",
    "https://www.earthinversion.com/utilities/reading-NetCDF4-data-in-python/\n",
    "\n",
    "There are also more advanced modules to read and write netCDF files, such as the module *xarray*. While these modules provide high-level functions to manipulate netCDF files, they tend to hide important details about the structure of these files. It is therefore recommended to know how to use a low-level module such as *netCDF4* before trying to use more advanced and powerful modules such as *xarray*."
   ]
  },
  {
   "cell_type": "markdown",
   "metadata": {},
   "source": [
    "## Install netCDF4 module\n",
    "\n",
    "You must first install netCDF4 on your system.\n",
    "\n",
    "First, you can check if the module *netCDF4* is already installed. For this, you can simply import the module. If the module is installed the *import* command will run without error. Otherwise, an error will be issued."
   ]
  },
  {
   "cell_type": "code",
   "execution_count": null,
   "metadata": {},
   "outputs": [],
   "source": [
    "# load netCDF4 module\n",
    "import numpy as np\n",
    "import netCDF4 as nc \n",
    "\n",
    "# if an error is issued, you need to install the module.\n",
    "# In that case, open a terminal and execute the following command: pip install --upgrade netCDF4\n",
    "# Then restart your Kernel, and try again to execute the import command. No error should be issued anymore."
   ]
  },
  {
   "cell_type": "markdown",
   "metadata": {},
   "source": [
    "## Check what is in netCDF4 and reach help menu"
   ]
  },
  {
   "cell_type": "code",
   "execution_count": null,
   "metadata": {},
   "outputs": [],
   "source": [
    "print(\"Content of the module netCDF4:\")\n",
    "print(dir(nc))"
   ]
  },
  {
   "cell_type": "code",
   "execution_count": null,
   "metadata": {},
   "outputs": [],
   "source": [
    "# command to access helper\n",
    "nc.Dataset?"
   ]
  },
  {
   "cell_type": "code",
   "execution_count": null,
   "metadata": {},
   "outputs": [],
   "source": [
    "help(nc.Dataset)"
   ]
  },
  {
   "cell_type": "markdown",
   "metadata": {},
   "source": [
    "## Import data from the climatology MIMOC\n",
    "\n",
    "During this lab, we will work with the ocean climatology MIMOC (https://www.pmel.noaa.gov/mimoc/). \n",
    "\n",
    "To get the datafiles, you can either find it in the *share* directory (path: shared/mav110/projekt/MIMOC), or import it from Canvas."
   ]
  },
  {
   "cell_type": "markdown",
   "metadata": {},
   "source": [
    "### To get it from the *share* directory, open a terminal and type the folowing command from your home directory:\n",
    "- cp -r shared/mav110/projekt/MIMOC .\n",
    "\n",
    "Important: do not forget the final point *.* which indicates the destination folder being the folder in which you currently are (i.e. your home directory in this case).\n",
    "\n",
    "Important 2: the option *-r* means 'recursively', i.e. that you will copy the folder and its entire content. If you try to copy a non-empty folder without this option, you will get an error issued."
   ]
  },
  {
   "cell_type": "markdown",
   "metadata": {},
   "source": [
    "### To import it from Canvas, you must:\n",
    "- first download the file MIMOC_ML_v2.2_CT_SA.zip on your computer, and \n",
    "- second, upload the zip file on jupyterhub, and\n",
    "- unzip its content in your working directory. \n",
    "You should have twelve files, one for each month: MIMOC_ML_v2.2_CT_SA_MLP_monthXX.nc with XX a number from 1 to 12.\n",
    "\n",
    "To unzip the file, you must open a terminal (using the + sign in the File Browser), move the zip file in a directory of your choice (e.g. MIMOC_ML_v2.2, use linux command mv), then uncompress the zip file (use the command unzip). Here is the list of commands that you need to enter in the terminal from your home directory:\n",
    "- mkdir MIMOC\n",
    "- mv MIMOC_ML_v2.2_CT_SA.zip MIMOC\n",
    "- cd MIMOC\n",
    "- unzip MIMOC_ML_v2.2_CT_SA.zip\n",
    "- cd\n",
    "\n",
    "Important: The last command *cd* brings you back to your home directory."
   ]
  },
  {
   "cell_type": "markdown",
   "metadata": {},
   "source": [
    "We can now load the module *netCDF4* and then load the dataset using the command *nc.Dataset*.\n",
    "Use the command *print* to see what the netCDF file contains."
   ]
  },
  {
   "cell_type": "code",
   "execution_count": null,
   "metadata": {},
   "outputs": [],
   "source": [
    "# check that MIMOC files are accessible\n",
    "import netCDF4 as nc\n",
    "nc_file = 'MIMOC_ML_v2.2_CT_SA_MLP_month01.nc'\n",
    "nc_fid =  nc.Dataset(nc_file)\n",
    "print(\"Content of the netCDF file: \", nc_fid)\n",
    "nc_fid.close()"
   ]
  },
  {
   "cell_type": "markdown",
   "metadata": {},
   "source": [
    "## Structure of netCDF files"
   ]
  },
  {
   "cell_type": "code",
   "execution_count": null,
   "metadata": {},
   "outputs": [],
   "source": [
    "import netCDF4 as nc\n",
    "\n",
    "nc_file = 'MIMOC_ML_v2.2_CT_SA_MLP_month01.nc'\n",
    "\n",
    "# the 'with' statement can be used to open a file temporarily and close it automatically when leaving the code block\n",
    "with nc.Dataset(nc_file) as nc_fid:\n",
    "    print(nc_fid)"
   ]
  },
  {
   "cell_type": "markdown",
   "metadata": {},
   "source": [
    "Every netCDF files contains METADATA about the data in the file. This METADATA is broken down into variables, dimensions, and attributes.\n",
    "* Variables. Variables contain data stored in the NetCDF file. This data is typically in the form of a multidimensional array. Scalar values are stored as 0-dimension arrays.\n",
    "* Dimensions. Dimensions can be used to describe physical space (latitude, longitude, height, and time) or indices of other quantities (e.g. weather station identifiers).\n",
    "* Attributes. Attributes are modifiers for variables and dimensions. Attributes act as ancillary data to help provide context. An example of an attribute would be a variable's units or fill/missing values.\n",
    "\n",
    "Look at the information provided above for your netCDF file. The file has two dimensions (LONG, LAT).\n",
    "Variables that gives values for each element of a dimension are called *Coordinates*. Here LATITUDE and LONGITUDE are the two coordinates.\n",
    "Then, the file contains three variables of dimension (LAT, LON), i.e.e there are 2D tables. The size of these tables is thus (341,720).\n",
    "\n",
    "This can be checked by using the .shape attribute:\n"
   ]
  },
  {
   "cell_type": "code",
   "execution_count": null,
   "metadata": {},
   "outputs": [],
   "source": [
    "with nc.Dataset(nc_file) as nc_fid:\n",
    "    print(f\"Dim of Mixed-Layer Temperature array = {nc_fid['CONSERVATIVE_TEMPERATURE_MIXED_LAYER'].shape}\")\n",
    "    print(f\"Dim of Mixed-Layer Salinity array = {nc_fid['ABSOLUTE_SALINITY_MIXED_LAYER'].shape}\")\n",
    "    print(f\"Dim of Mixed-Layer Depth array = {nc_fid['DEPTH_MIXED_LAYER'].shape}\")"
   ]
  },
  {
   "cell_type": "markdown",
   "metadata": {},
   "source": [
    "### List of dimensions"
   ]
  },
  {
   "cell_type": "markdown",
   "metadata": {},
   "source": [
    "Below, we will create a dictionary with the name of dimension as entry and their value giving the size of the dimension."
   ]
  },
  {
   "cell_type": "code",
   "execution_count": null,
   "metadata": {},
   "outputs": [],
   "source": [
    "nc_file = 'MIMOC_ML_v2.2_CT_SA_MLP_month01.nc'\n",
    "with nc.Dataset(nc_file) as nc_fid:\n",
    "    dict_dimensions = {}\n",
    "    for dim in nc_fid.dimensions:\n",
    "        dict_dimensions[dim] = nc_fid.dimensions[dim].size\n",
    "    \n",
    "print(dict_dimensions)"
   ]
  },
  {
   "cell_type": "markdown",
   "metadata": {},
   "source": [
    "### List of variables"
   ]
  },
  {
   "cell_type": "code",
   "execution_count": null,
   "metadata": {},
   "outputs": [],
   "source": [
    "nc_file = 'MIMOC_ML_v2.2_CT_SA_MLP_month01.nc'\n",
    "with nc.Dataset(nc_file) as nc_fid:\n",
    "    dict_variables = {}\n",
    "    for var in nc_fid.variables:\n",
    "        dict_variables[var] = [nc_fid.variables[var].shape, nc_fid.variables[var].dtype]\n",
    "    \n",
    "print(dict_variables)"
   ]
  },
  {
   "cell_type": "markdown",
   "metadata": {},
   "source": [
    "## Access data in a variable"
   ]
  },
  {
   "cell_type": "markdown",
   "metadata": {},
   "source": [
    "To look at the data, you must use the syntax nc_fid['VARIABLE'][:]. Note that the last '[:]' means that you want to look the values in the variable. \n",
    "\n",
    "* If you want only to look at the first value, you would use index '[0]'.\n",
    "* If you want only to look at the last value, you would use index '[-1]'.\n",
    "* If you want only to look at every second values, you would use index '[::2]'.\n"
   ]
  },
  {
   "cell_type": "code",
   "execution_count": null,
   "metadata": {},
   "outputs": [],
   "source": [
    "nc_file = 'MIMOC_ML_v2.2_CT_SA_MLP_month01.nc'\n",
    "with nc.Dataset(nc_file) as nc_fid:\n",
    "    LATITUDE = nc_fid['LATITUDE'][:] # print all the latitude values\n",
    "\n",
    "print('LATITUDE = ', LATITUDE)\n",
    "print('First value = ', LATITUDE[0])\n",
    "print('Last value = ', LATITUDE[-1])\n",
    "print('Print every second values = ', LATITUDE[::2])"
   ]
  },
  {
   "cell_type": "code",
   "execution_count": null,
   "metadata": {},
   "outputs": [],
   "source": [
    "nc_file = 'MIMOC_ML_v2.2_CT_SA_MLP_month01.nc'\n",
    "with nc.Dataset(nc_file) as nc_fid:\n",
    "    LATITUDE = nc_fid['LATITUDE'][:] # print all the latitude values\n",
    "    LONGITUDE = nc_fid['LONGITUDE'][:] # print all the latitude values\n",
    "    \n",
    "# print first and last value separately\n",
    "print(LONGITUDE[0], LONGITUDE[-1])\n",
    "\n",
    "# create a list with first and last values of Longitude\n",
    "print(LONGITUDE[[0,-1]])"
   ]
  },
  {
   "cell_type": "markdown",
   "metadata": {},
   "source": [
    "Let's read all the data from the netCDF file:"
   ]
  },
  {
   "cell_type": "code",
   "execution_count": null,
   "metadata": {},
   "outputs": [],
   "source": [
    "# load netcdf module\n",
    "import netCDF4 as nc\n",
    "\n",
    "# load latitude, longitude and data in python variable data\n",
    "nc_file = 'MIMOC_ML_v2.2_CT_SA_MLP_month01.nc'\n",
    "with nc.Dataset(nc_file) as nc_fid:\n",
    "    LATITUDE = nc_fid['LATITUDE'][:] # print all the latitude values\n",
    "    LONGITUDE = nc_fid['LONGITUDE'][:] # print all the latitude values\n",
    "    TEMPERATURE = nc_fid['CONSERVATIVE_TEMPERATURE_MIXED_LAYER'][:,:] # note that it's a 2-dim variable\n",
    "    SALINITY = nc_fid['ABSOLUTE_SALINITY_MIXED_LAYER'][:,:] # note that it's a 2-dim variable\n",
    "    DEPTH_MIXED_LAYER = nc_fid['DEPTH_MIXED_LAYER'][:,:] # note that it's a 2-dim variable\n",
    "\n",
    "print(TEMPERATURE)"
   ]
  },
  {
   "cell_type": "markdown",
   "metadata": {},
   "source": [
    "## Some statistics and plots..."
   ]
  },
  {
   "cell_type": "code",
   "execution_count": null,
   "metadata": {},
   "outputs": [],
   "source": [
    "# print global mean and standard deviation of temperature (use nanmean and nanstd to ignore NaN values)\n",
    "import numpy as np\n",
    "print('mean TEMPERATURE:',np.nanmean(TEMPERATURE))\n",
    "print('std TEMPERATURE:',np.nanstd(TEMPERATURE))"
   ]
  },
  {
   "cell_type": "code",
   "execution_count": null,
   "metadata": {},
   "outputs": [],
   "source": [
    "# print the maximum temperature and indicate at which location the maximum temperature is reached\n",
    "import numpy as np\n",
    "print('max TEMPERATURE:',np.nanmax(TEMPERATURE))\n",
    "index_flattened = np.nanargmax(TEMPERATURE)\n",
    "index_2d = np.unravel_index(index_flattened, TEMPERATURE.shape )\n",
    "print('index_flattened = ',index_flattened)\n",
    "print('index_2d = ',index_2d)\n",
    "print('latitude_max = ',LATITUDE[index_2d[0]])\n",
    "print('longitude_max = ',LONGITUDE[index_2d[1]])\n",
    "\n",
    "print('check that max is reached at position given by index_2d: TEMPERATURE[index_2d]=',TEMPERATURE[index_2d])"
   ]
  },
  {
   "cell_type": "code",
   "execution_count": null,
   "metadata": {},
   "outputs": [],
   "source": [
    "# plot temperature along 30W (crossing the Atlantic basin)\n",
    "print('Longitude at index 720-30*2 = 660 : ', LONGITUDE[660])\n",
    "import matplotlib.pyplot as plt\n",
    "plt.plot(LATITUDE,TEMPERATURE[:,660])"
   ]
  },
  {
   "cell_type": "code",
   "execution_count": null,
   "metadata": {},
   "outputs": [],
   "source": [
    "# plot temperature along different meridians\n",
    "import matplotlib.pyplot as plt\n",
    "for lon in range(0,360,60):\n",
    "    plt.plot(LATITUDE,TEMPERATURE[:,lon*2],label = lon)\n",
    "plt.legend()\n",
    "plt.xlabel('latitude')\n",
    "plt.ylabel('temperature [degC]')\n",
    "plt.title('MIMOC surface temperature')\n",
    "plt.savefig('MIMOC_surface_temperature_meridional_profiles.png')"
   ]
  },
  {
   "cell_type": "markdown",
   "metadata": {},
   "source": [
    "## Try it yourself"
   ]
  },
  {
   "cell_type": "markdown",
   "metadata": {},
   "source": [
    "* What is the global mean surface temperature in June?\n",
    "* What is the global mean surface salinity in January? in June?\n",
    "* Can you plot the meridional section of temperature at 30W for the twelve different seasons on the same figure?"
   ]
  },
  {
   "cell_type": "code",
   "execution_count": null,
   "metadata": {},
   "outputs": [],
   "source": []
  }
 ],
 "metadata": {
  "kernelspec": {
   "display_name": "Python 3",
   "language": "python",
   "name": "python3"
  },
  "language_info": {
   "codemirror_mode": {
    "name": "ipython",
    "version": 3
   },
   "file_extension": ".py",
   "mimetype": "text/x-python",
   "name": "python",
   "nbconvert_exporter": "python",
   "pygments_lexer": "ipython3",
   "version": "3.8.3"
  }
 },
 "nbformat": 4,
 "nbformat_minor": 4
}
