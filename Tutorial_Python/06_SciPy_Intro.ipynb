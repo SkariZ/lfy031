{
 "cells": [
  {
   "cell_type": "markdown",
   "metadata": {},
   "source": [
    "# Population Dynamics with SciPy\n",
    "\n",
    "## 0. What is SciPy?\n",
    "\n",
    "SciPy (meaning Scientific Python) is a computation library built on NumPy. It is a rich source of utility functions for optimization, statistics and signal processing.\n",
    "\n",
    "SciPy provides many built-in scientific constants (e.g. $\\pi$, or expressing a specified unit in terms of another standard unit like degree in radians), which can be useful in various situations. To use constants, we first need to import the module 'constants'.\n"
   ]
  },
  {
   "cell_type": "markdown",
   "metadata": {},
   "source": [
    "### 0.1 Examples: using constants"
   ]
  },
  {
   "cell_type": "code",
   "execution_count": 1,
   "metadata": {},
   "outputs": [
    {
     "name": "stdout",
     "output_type": "stream",
     "text": [
      "3.141592653589793\n",
      "0.001\n",
      "0.017453292519943295\n"
     ]
    }
   ],
   "source": [
    "from scipy import constants\n",
    "\n",
    "#return the value of the constant pi\n",
    "print(constants.pi)\n",
    "\n",
    "#express a unit of mass in kg\n",
    "print(constants.gram)\n",
    "\n",
    "#express a unit of angle in radians\n",
    "print(constants.degree)"
   ]
  },
  {
   "cell_type": "markdown",
   "metadata": {},
   "source": [
    "### 0.2 Examples: optimizing functions\n",
    "\n",
    "#### Finding roots using NumPy and SciPy\n",
    "    \n",
    "Let's find the square root of 7 by numerically solving the equation $x^2-7=0$. \n",
    "\n",
    "This can be done by finding the roots of the function $f(x)=x^2-7$, meaning we want to find the values of x such that evaluating f at these values would return f=0. This will give us the value $x=\\sqrt{7}$. \n",
    "\n",
    "One possible way to do this is by means of the Newton Raphson root finding method, that is explained next."
   ]
  },
  {
   "cell_type": "markdown",
   "metadata": {},
   "source": [
    "**The Newton Raphson root finding method**\n",
    "\n",
    "To find the square root of 7 we can start with an initial guess, $x_1$ as the root of $f(x)$\n",
    "\n",
    "The slope of the tangent to $f(x)$ at $x_1$ is: \n",
    "\n",
    "$$ f' (x_1) =  \\frac{f(x_2) - f(x_1)}{(x_2 - x_1)} $$\n",
    "\n",
    "To find the intercept of this slope on the X axis, we input $f(x_2) = 0$ in the above equation to obtain:\n",
    "\n",
    "$$ x_2 = x_1 - \\frac{f(x_1)}{f'(x_1)}$$\n",
    "\n",
    "We repeat this operation iteratively, until convergence: the method converges towards the root of the function."
   ]
  },
  {
   "cell_type": "markdown",
   "metadata": {},
   "source": [
    "An illustration from the Wikipedia page on the [Newton's method](https://en.wikipedia.org/wiki/Newton's_method).\n",
    "\n",
    "<img src=https://upload.wikimedia.org/wikipedia/commons/e/e0/NewtonIteration_Ani.gif>"
   ]
  },
  {
   "cell_type": "markdown",
   "metadata": {},
   "source": [
    "Let's now plot our function and try to visually determine the solution."
   ]
  },
  {
   "cell_type": "code",
   "execution_count": 2,
   "metadata": {},
   "outputs": [
    {
     "data": {
      "image/png": "[encoded data removed]",
      "text/plain": [
       "<Figure size 640x480 with 1 Axes>"
      ]
     },
     "metadata": {},
     "output_type": "display_data"
    }
   ],
   "source": [
    "#plotting our function\n",
    "import numpy as np\n",
    "import matplotlib.pyplot as plt\n",
    "#start by defining the number of points (N) within a predefined range of x values  \n",
    "#increase N to increase the resolution\n",
    "\n",
    "N = 40 \n",
    "x = np.linspace(-5, 5, N)\n",
    "#print(x)\n",
    "\n",
    "f=x**2-7\n",
    "\n",
    "\n",
    "plt.plot(x,f, marker=\"+\", color=\"b\")\n",
    "plt.axhline(0, color=\"r\")\n",
    "\n",
    "plt.xticks(np.arange(-5,5.1,1))\n",
    "#plt.grid()\n",
    "plt.xlabel(\"x\")\n",
    "plt.ylabel(\"f(x)\")\n",
    "plt.show()"
   ]
  },
  {
   "cell_type": "code",
   "execution_count": 3,
   "metadata": {},
   "outputs": [
    {
     "name": "stdout",
     "output_type": "stream",
     "text": [
      "[-5.         -4.74358974 -4.48717949 -4.23076923 -3.97435897 -3.71794872\n",
      " -3.46153846 -3.20512821 -2.94871795 -2.69230769 -2.43589744 -2.17948718\n",
      " -1.92307692 -1.66666667 -1.41025641 -1.15384615 -0.8974359  -0.64102564\n",
      " -0.38461538 -0.12820513  0.12820513  0.38461538  0.64102564  0.8974359\n",
      "  1.15384615  1.41025641  1.66666667  1.92307692  2.17948718  2.43589744\n",
      "  2.69230769  2.94871795  3.20512821  3.46153846  3.71794872  3.97435897\n",
      "  4.23076923  4.48717949  4.74358974  5.        ]\n"
     ]
    }
   ],
   "source": [
    "print(x)"
   ]
  },
  {
   "cell_type": "markdown",
   "metadata": {},
   "source": [
    "We can see that the function f is equal to zero somewhere in the vicinity of $x=2.69$. Let's guess that the solution is 2.69 and check if we're close to the solution."
   ]
  },
  {
   "cell_type": "code",
   "execution_count": 4,
   "metadata": {},
   "outputs": [
    {
     "data": {
      "text/plain": [
       "7.2360999999999995"
      ]
     },
     "execution_count": 4,
     "metadata": {},
     "output_type": "execute_result"
    }
   ],
   "source": [
    "#evaluate f at our guess x=2.69\n",
    "2.69**2"
   ]
  },
  {
   "cell_type": "markdown",
   "metadata": {},
   "source": [
    "We are rather close but we slightly overestimated the value of x.\n",
    "\n",
    "Another attempt: let's try to simply find the value of x such that $|f(x)|$ attains the minimum. The result will depend on the resolution of x (i.e., the parameter N; see above)."
   ]
  },
  {
   "cell_type": "code",
   "execution_count": 5,
   "metadata": {},
   "outputs": [
    {
     "name": "stdout",
     "output_type": "stream",
     "text": [
      "0.24852071005916798\n",
      "2.6923076923076916\n",
      "7.248520710059168\n"
     ]
    }
   ],
   "source": [
    "#first find the index of the vector f such that abs(f) attains the minimum value  \n",
    "index_MinAbsf=np.argmin(np.abs(f))\n",
    "#check the value of abs(f) at this index; if 0, we're done; otherwise, we'd need to improve the resolution of x\n",
    "print(np.abs(f[index_MinAbsf]))\n",
    "\n",
    "#print out also the value of x at which this minimum is attained\n",
    "print(x[index_MinAbsf])\n",
    "\n",
    "#also, print out the value of x^2 for this x\n",
    "print(x[index_MinAbsf]**2)"
   ]
  },
  {
   "cell_type": "markdown",
   "metadata": {},
   "source": [
    "We see this solution is not very accurate. To find a better solution, we can increase the resolution of x (by increasing N above). Try this. "
   ]
  },
  {
   "cell_type": "code",
   "execution_count": 6,
   "metadata": {},
   "outputs": [],
   "source": [
    "#Your code here\n"
   ]
  },
  {
   "cell_type": "markdown",
   "metadata": {},
   "source": [
    "Alternatively, we can apply the Newton Raphson method. Let's first use loops to do this. In this case, the convergence is rather fast (already tested), so it is 'safe' to use a loop here. "
   ]
  },
  {
   "cell_type": "code",
   "execution_count": 7,
   "metadata": {},
   "outputs": [
    {
     "name": "stdout",
     "output_type": "stream",
     "text": [
      "0 -4 -2.875\n",
      "1 -2.875 -2.654891304347826\n",
      "2 -2.654891304347826 -2.6457670441902894\n",
      "3 -2.6457670441902894 -2.6457513111113693\n",
      "4 -2.6457513111113693 -2.6457513110645907\n",
      "-2.6457513110645907\n"
     ]
    }
   ],
   "source": [
    "#initial guess\n",
    "x_n = -4\n",
    "#counter for the number of iterations in the loop (initialise it at 0, and increase by one in each iteration)\n",
    "count = 0\n",
    "#maximal number of iterations we want to allow (otherwise this can go on infinitely long if we imposed ill stopping conditions)\n",
    "max_count=100\n",
    "\n",
    "#this is the exit condition (initialise it at 0, and loop until it becomes 1; remember to define the condition in the loop for this parameter to become 1!)\n",
    "exit_cond=0\n",
    "\n",
    "while exit_cond != 1:\n",
    "    #apply the Newton Raphson iterative method above \n",
    "    f_n = x_n**2 - 7\n",
    "    f_n_dx = 2*x_n # f'(x) = 2x\n",
    "    \n",
    "    x_np1 = x_n - f_n/f_n_dx\n",
    "    \n",
    "    #print out results in each iteration to follow the progress: number of iteration, starting value of x, new value of x\n",
    "    print(count, x_n, x_np1)\n",
    "    \n",
    "    #increase the iteration counter by 1\n",
    "    count += 1\n",
    "    \n",
    "    #This is quite important: exit conditions!\n",
    "    #The main exit condition concerns convergence: if the old and the new value of x are very very close to each other, then exit\n",
    "    #Here, 'close' is to be set by the user\n",
    "    #I will call the two 'close' when the absolute value of the difference between them is smaller than, or equal to 10^(-8), arguably a very small number (can be modified, but with care!)  \n",
    "    \n",
    "    if np.abs((x_n-x_np1))<=1e-8:\n",
    "        exit_cond=1 #This means: yes, exit!\n",
    "        \n",
    "        #the next line is also important: if we have not reached the above condition within a reasonable time (number of iterations), then require to exit\n",
    "    elif count == max_count:\n",
    "            exit_cond=1\n",
    "        \n",
    "    #Finally, remember to treat x_np1 as the new input value for the next iteration\n",
    "    x_n = x_np1\n",
    "    \n",
    "print(x_np1)  "
   ]
  },
  {
   "cell_type": "markdown",
   "metadata": {},
   "source": [
    "So, we needed only 5 iterations to reach convergence. Check how close the result is to the actual solution by evaluating $x_n^2$ (we want this to be very very close to 7)."
   ]
  },
  {
   "cell_type": "code",
   "execution_count": 8,
   "metadata": {},
   "outputs": [
    {
     "name": "stdout",
     "output_type": "stream",
     "text": [
      "7.000000000000001\n"
     ]
    }
   ],
   "source": [
    "print(x_n**2)"
   ]
  },
  {
   "cell_type": "markdown",
   "metadata": {},
   "source": [
    "Perfect, we are indeed very close to what we were looking for. \n",
    "\n",
    "In general, however, achieving convergence in a pure Python-loop mode can be a long process, and we'd like to avoid this whenever possible. \n",
    "\n",
    "**Solving the problem using SciPy**\n",
    "\n",
    "Luckily, there are a number of optimization functions in SciPy that are more efficient than loops in pure Pyhton.\n",
    "\n",
    "More detailed information about the different optimization methods can be found at <a href=\"https://docs.scipy.org/doc/scipy/reference/optimize.html\">Optimization and Root Finding</a>\n",
    "\n",
    "Let's try to solve the above problem using the *newton* module in SciPy."
   ]
  },
  {
   "cell_type": "code",
   "execution_count": 9,
   "metadata": {},
   "outputs": [
    {
     "name": "stdout",
     "output_type": "stream",
     "text": [
      "2.6457513110645907\n",
      "-2.6457513110645907\n"
     ]
    }
   ],
   "source": [
    "#use the Newton Raphson root finding iterative method in SciPy\n",
    "    \n",
    "from scipy.optimize import newton\n",
    "\n",
    "def ex_function(x):\n",
    "    return x**2-7\n",
    "#take 1 as an initial guess\n",
    "f_roots_newton1=newton(ex_function, 1)\n",
    "print(f_roots_newton1)\n",
    "\n",
    "#now take -1 as an initial guess\n",
    "f_roots_newton2=newton(ex_function, -1)\n",
    "print(f_roots_newton2)\n",
    "\n"
   ]
  },
  {
   "cell_type": "markdown",
   "metadata": {},
   "source": [
    "Of course, there are two roots of $f$, symmetric around 0, which we find by starting at a positive or a negative initial guess.\n",
    "\n",
    "How good are these solutions?"
   ]
  },
  {
   "cell_type": "code",
   "execution_count": 10,
   "metadata": {},
   "outputs": [
    {
     "name": "stdout",
     "output_type": "stream",
     "text": [
      "7.000000000000001\n",
      "7.000000000000001\n"
     ]
    }
   ],
   "source": [
    "print(f_roots_newton1**2)\n",
    "print(f_roots_newton2**2)"
   ]
  },
  {
   "cell_type": "markdown",
   "metadata": {},
   "source": [
    "**Exercise 1**\n",
    "\n",
    "Use SciPy to find the roots of the function $f=x^4+2*x^2-6$.\n",
    "\n",
    "First plot the function for x ranging from -7 to 7. If it is difficult to visualize zeros of the function, you'll need to adjust the range on the x axis. "
   ]
  },
  {
   "cell_type": "code",
   "execution_count": 11,
   "metadata": {},
   "outputs": [],
   "source": [
    "#Your code here for visualizing the function\n"
   ]
  },
  {
   "cell_type": "code",
   "execution_count": 12,
   "metadata": {},
   "outputs": [],
   "source": [
    "#Now make a guess for the root(s) of f.\n",
    "#Plug this guess back in the equation for f to see if your guess is close to the solution we're looking for.\n",
    "#Print the output.\n",
    "#Insert your code here"
   ]
  },
  {
   "cell_type": "code",
   "execution_count": 13,
   "metadata": {},
   "outputs": [],
   "source": [
    "#Now use SciPy newton module to find the roots of this function.\n",
    "#Your code here:\n",
    "\n",
    "\n",
    "\n",
    "#Print the solutions and check that they are indeed what you were looking for (i.e., plug them back in the original equation and evaluate f).\n",
    "#Your code here:\n"
   ]
  },
  {
   "cell_type": "markdown",
   "metadata": {},
   "source": [
    "#### Finding minima/maxima of a function\n",
    "\n",
    "We can also ask where are the minima and/or the maxima of a given function. \n",
    "This is done using the module minimize. \n",
    "The basic arguments for the minimize() function are as follows:\n",
    "- fun - which is the function for which you want to find minima\n",
    "- x0 - an initial guess\n",
    "- method - name of the minimization method you'd like to use. Possible values for this argument are:\n",
    "    - 'CG' (conjugate gradient algorithm)\n",
    "    - 'BFGS' (Broyden, Fletcher, Goldfarb, Shanno algorithm - for convex optimization problems with single optima)\n",
    "    - 'Newton-CG' (Newton conjugate gradient algorithm)\n",
    "    - 'L-BFGS-B' (limited memory BFGS)\n",
    "    - 'TNC'(Truncated Newton Method)\n",
    "    - 'COBYLA' (Constrained Optimization BY Linear Approximation)\n",
    "    - 'SLSQP' (Sequential Least SQuares Programming)\n",
    " \n",
    "Refer to <a href=\"https://docs.scipy.org/doc/scipy/reference/optimize.html\">Optimization and Root Finding</a> (same source as provided above) for more information about these methods.\n",
    " \n",
    " Let's try to find the minima of our function $f(x)=x^2-7$, using BFGS method, for example. What do we expect? The solution should be $x=0$.\n"
   ]
  },
  {
   "cell_type": "code",
   "execution_count": 14,
   "metadata": {
    "scrolled": true
   },
   "outputs": [
    {
     "name": "stdout",
     "output_type": "stream",
     "text": [
      "[-9.44232006e-09]\n"
     ]
    }
   ],
   "source": [
    "from scipy.optimize import minimize\n",
    "\n",
    "min_f=minimize(ex_function,1,method='BFGS')\n",
    "print(min_f.x)"
   ]
  },
  {
   "cell_type": "markdown",
   "metadata": {},
   "source": [
    "This is very very close to zero, and this is what we'd expect given some numerical imprecision.\n"
   ]
  },
  {
   "cell_type": "markdown",
   "metadata": {},
   "source": [
    "**Exercise 2**\n",
    "\n",
    "Find the minima of the function $f=x^4+2*x^2-6$. "
   ]
  },
  {
   "cell_type": "code",
   "execution_count": 15,
   "metadata": {},
   "outputs": [],
   "source": [
    "#Your code here:"
   ]
  },
  {
   "cell_type": "markdown",
   "metadata": {},
   "source": [
    "#### Solving an ordinary differential equation (ODE) \n",
    "\n",
    "SciPy has a built in function that solves an ordinary differential equation (ODE), or a system of ODEs, by numerical integration.\n",
    "\n",
    "Here we will start with a few examples of a single ODE.\n",
    "\n",
    "${\\color{blue}{\\underline{\\rm{Solving~an~ODE:Example~1}}}}$ \n",
    "\n",
    "Consider the following ODE:\n",
    "\n",
    "$$\\frac{{\\rm d}y(t)}{{\\rm d}t}=\\frac{-y(t)+1}{10}$$\n",
    "\n",
    "with the initial condition\n",
    "\n",
    "$$y(0)=0$$.\n",
    "\n",
    "Solve for $y(t)$."
   ]
  },
  {
   "cell_type": "code",
   "execution_count": 16,
   "metadata": {},
   "outputs": [
    {
     "data": {
      "image/png": "[encoded data removed]",
      "text/plain": [
       "<Figure size 640x480 with 1 Axes>"
      ]
     },
     "metadata": {},
     "output_type": "display_data"
    }
   ],
   "source": [
    "from math import cos\n",
    "import numpy as np\n",
    "from scipy.integrate import odeint\n",
    "import matplotlib.pyplot as plt\n",
    "\n",
    "\n",
    "#define the function\n",
    "def function1(y,t):\n",
    "    dydt=-y/10+1/10\n",
    "    return dydt\n",
    "\n",
    "#initial condition\n",
    "y0=0\n",
    "\n",
    "#give the range of points over which to integrate\n",
    "t=np.arange(100)\n",
    "res1=odeint(function1, y0, t)\n",
    "y = res1\n",
    "\n",
    "\n",
    "plt.plot(np.arange(100), y , label=\"Result of integration\")\n",
    "plt.xlabel(\"t\")\n",
    "plt.ylabel(\"y(t)\")\n",
    "plt.legend()\n",
    "plt.show()"
   ]
  },
  {
   "cell_type": "markdown",
   "metadata": {},
   "source": [
    "${\\color{blue}{\\underline{\\rm{Solving~an~ODE:Example~2}}}}$ \n",
    "\n",
    "Now consider a slightly different ODE:\n",
    "\n",
    "$$\\frac{{\\rm d}y(t)}{{\\rm d}t}=\\frac{-y(t)+u(t)}{10}$$,\n",
    "\n",
    "where $u(t)=0~{\\rm for}~t<10$, and $u(t)=2~{\\rm for}~t\\ge 10$. The initial condition is $y(0)=1$."
   ]
  },
  {
   "cell_type": "code",
   "execution_count": 17,
   "metadata": {},
   "outputs": [
    {
     "data": {
      "image/png": "[encoded data removed]",
      "text/plain": [
       "<Figure size 640x480 with 1 Axes>"
      ]
     },
     "metadata": {},
     "output_type": "display_data"
    }
   ],
   "source": [
    "import numpy as np\n",
    "from scipy.integrate import odeint\n",
    "import matplotlib.pyplot as plt\n",
    "\n",
    "#define the function\n",
    "def function2(y,t):\n",
    "    #first define u(t)\n",
    "    if t<10:\n",
    "        u=0\n",
    "    else:\n",
    "        u=2\n",
    "    dydt=-y/10+u/10\n",
    "    return dydt\n",
    "\n",
    "#initial condition\n",
    "y0=1\n",
    "\n",
    "\n",
    "#give the range of points over which to integrate\n",
    "t=np.arange(100)\n",
    "resY=odeint(function2, y0, t)\n",
    "y = resY\n",
    "\n",
    "#plot the solution together with u(t)\n",
    "plt.plot(np.arange(100), y[np.arange(100)] , label=\"y function\")\n",
    "plt.plot([0, 10 , 10, 100], [0, 0, 2, 2], label=\"u function\")\n",
    "plt.xlabel(\"t\")\n",
    "plt.ylabel(\"y(t), u(t)\")\n",
    "plt.legend()\n",
    "plt.show()"
   ]
  },
  {
   "cell_type": "markdown",
   "metadata": {},
   "source": [
    "${\\color{blue}{\\underline{\\rm{Solving~a~system~of~ODEs:Example~3}}}}$ \n",
    "\n",
    "\n",
    "Solve the following system of ODEs:\n",
    "\n",
    "$$2\\frac{{\\rm d}{x(t)}}{{\\rm d}t}=-x(t)+u(t)$$,\n",
    "\n",
    "$$5\\frac{{\\rm d}{y(t)}}{{\\rm d}t}=-y(t)+x(t)$$,\n",
    "\n",
    "where $u(t<5)=0$, $u(t\\ge 5)=2$, and $x(0)=y(0)=0$.\n"
   ]
  },
  {
   "cell_type": "code",
   "execution_count": 18,
   "metadata": {},
   "outputs": [
    {
     "data": {
      "image/png": "[encoded data removed]",
      "text/plain": [
       "<Figure size 640x480 with 1 Axes>"
      ]
     },
     "metadata": {},
     "output_type": "display_data"
    }
   ],
   "source": [
    "import numpy as np\n",
    "from scipy.integrate import odeint\n",
    "import matplotlib.pyplot as plt\n",
    "\n",
    "#define the function\n",
    "def function3(Y,t):\n",
    "    #first define u(t)\n",
    "    if t<5:\n",
    "        u=0\n",
    "    else:\n",
    "        u=2\n",
    "        \n",
    "    #define Y in terms of y, x\n",
    "    [x, y] = Y\n",
    "    \n",
    "    dxdt=-x/2+u/2\n",
    "    dydt=-y/5+x/5\n",
    "    return [dxdt, dydt]\n",
    "\n",
    "#initial condition for the composite variable Y\n",
    "x0=0\n",
    "y0=0\n",
    "Y0=[x0, y0]\n",
    "\n",
    "t=np.arange(100)\n",
    "res_syst=odeint(function3,Y0,t)\n",
    "[x, y]=res_syst.T\n",
    "\n",
    "#print the solution\n",
    "plt.plot(np.arange(50), x[np.arange(50)] , color=\"b\", label=\"x(t)\")\n",
    "plt.plot(np.arange(50), y[np.arange(50)] , color=\"r\", label=\"y(t)\")\n",
    "\n",
    "plt.plot([0, 5 , 5, 50], [0, 0, 2, 2], color=\"k\", linestyle=\"dashed\", label=\"u(t)\")\n",
    "plt.xlabel(\"t\")\n",
    "plt.ylabel(\"x(t), y(t), u(t)\")\n",
    "plt.legend()\n",
    "plt.show()"
   ]
  },
  {
   "cell_type": "code",
   "execution_count": null,
   "metadata": {},
   "outputs": [],
   "source": []
  }
 ],
 "metadata": {
  "kernelspec": {
   "display_name": "Python 3",
   "language": "python",
   "name": "python3"
  },
  "language_info": {
   "codemirror_mode": {
    "name": "ipython",
    "version": 3
   },
   "file_extension": ".py",
   "mimetype": "text/x-python",
   "name": "python",
   "nbconvert_exporter": "python",
   "pygments_lexer": "ipython3",
   "version": "3.8.3"
  }
 },
 "nbformat": 4,
 "nbformat_minor": 5
}
