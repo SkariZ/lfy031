{
 "cells": [
  {
   "cell_type": "markdown",
   "metadata": {},
   "source": [
    "# Computing $\\pi$ with python\n",
    "Fabien Roquet, 01/12/2020"
   ]
  },
  {
   "cell_type": "markdown",
   "metadata": {},
   "source": [
    "The constant $\\pi$ is defined as the ratio between the perimeter of a circle and its diameter: \n",
    "$$P = \\pi D = 2\\pi R$$\n",
    "$\\pi$ is a central constant in mathematics, found not only in geometry but in fact in all areas of mathematics.\n",
    "For more information, refer to https://en.wikipedia.org/wiki/Pi\n",
    "\n",
    "We will discuss here several methods to compute $\\pi$, which will allow us to introduce some important concepts in scientific programming and present the python modules *numpy* and *matplotlib*."
   ]
  },
  {
   "cell_type": "markdown",
   "metadata": {},
   "source": [
    "--------------\n",
    "## How to access the value of $\\pi$ in python: you can enter it manually!"
   ]
  },
  {
   "cell_type": "code",
   "execution_count": 175,
   "metadata": {},
   "outputs": [
    {
     "name": "stdout",
     "output_type": "stream",
     "text": [
      "pi =  3.141592653589793\n",
      "Perimeter of a circle of radius 2.5 m: 15.708 m\n"
     ]
    }
   ],
   "source": [
    "pi = 3.141592653589793\n",
    "R = 2.5\n",
    "P = 2*pi*R\n",
    "print('pi = ',pi)\n",
    "print(f'Perimeter of a circle of radius {R} m: {P:5.3f} m')"
   ]
  },
  {
   "cell_type": "markdown",
   "metadata": {},
   "source": [
    "--------------\n",
    "## Approximating $\\pi$ with rational numbers"
   ]
  },
  {
   "cell_type": "markdown",
   "metadata": {},
   "source": [
    "**$\\pi$ is irrational**: it means that it cannot be written as the ratio of two integers. Most real numbers are irrationals, yet only rational numbers can be explicitely represented in a computer. Famous examples of irrational numbers include: $\\sqrt{2}$ and $e$.\n",
    "\n",
    "Using super-computers, mathematicians have been able to compute the first $10^{13}$ decimals of $\\pi$, however it is physically impossible to know the infinite many decimals. In other word, we can never know exactly the value of $\\pi$.\n",
    "\n",
    "Of course this does not prevent us from using $\\pi$. In practice, knowledge of an approximate value is sufficient. Rational numbers, being the ratio between two integers can be easily defined and computed. A famous approximation of $\\pi$ is the ratio 22/7."
   ]
  },
  {
   "cell_type": "code",
   "execution_count": 190,
   "metadata": {},
   "outputs": [
    {
     "name": "stdout",
     "output_type": "stream",
     "text": [
      "pi_approx =  3.142857142857143\n",
      "relative error: 0.0402%\n"
     ]
    }
   ],
   "source": [
    "# Common approximation used in the past\n",
    "pi_approx = 22/7\n",
    "print('pi_approx = ',pi_approx)\n",
    "\n",
    "relative_error = (pi_approx - pi)/pi*100\n",
    "print(f'relative error: {relative_error:2.3g}%' )"
   ]
  },
  {
   "cell_type": "code",
   "execution_count": 209,
   "metadata": {},
   "outputs": [
    {
     "name": "stdout",
     "output_type": "stream",
     "text": [
      "value: 3.142857142857143, relative error: 0.0402%\n"
     ]
    }
   ],
   "source": [
    "def relative_error_pi(pi_approx):\n",
    "    # relative error in percentage\n",
    "    relative_error = np.abs((pi_approx - pi)/pi*100)\n",
    "    print(f'value: {pi_approx}, relative error: {relative_error:2.3g}%' )\n",
    "    return\n",
    "\n",
    "relative_error_pi(pi_approx)"
   ]
  },
  {
   "cell_type": "markdown",
   "metadata": {},
   "source": [
    "--------------\n",
    "## How to get the value of $\\pi$ in python?\n",
    "\n",
    "Use module *numpy*"
   ]
  },
  {
   "cell_type": "code",
   "execution_count": 192,
   "metadata": {},
   "outputs": [
    {
     "name": "stdout",
     "output_type": "stream",
     "text": [
      "pi =  3.141592653589793\n"
     ]
    }
   ],
   "source": [
    "import numpy as np\n",
    "pi = np.pi\n",
    "print('pi = ',pi)"
   ]
  },
  {
   "cell_type": "markdown",
   "metadata": {},
   "source": [
    "--------------\n",
    "## Compute $\\pi$ using trigonometric functions\n",
    "\n",
    "Use the formula: $\\pi = 4 * \\arctan (1)$\n",
    "\n",
    "The function arctan, as well as all standard trigonometric functions, are available in the module *numpy*."
   ]
  },
  {
   "cell_type": "code",
   "execution_count": 210,
   "metadata": {},
   "outputs": [
    {
     "name": "stdout",
     "output_type": "stream",
     "text": [
      "value: 3.141592653589793, relative error:  0%\n"
     ]
    }
   ],
   "source": [
    "import numpy as np\n",
    "pi_trigo = 4*np.arctan(1)\n",
    "relative_error_pi(pi_trigo)"
   ]
  },
  {
   "cell_type": "markdown",
   "metadata": {},
   "source": [
    "--------------\n",
    "## How to compute $\\pi$ if you don't have access to trigonometric functions?\n",
    "https://en.wikipedia.org/wiki/Approximations_of_%CF%80\n",
    "\n",
    "In order to compute a number, a computer can use only simple algebraic operations on rational numbers with finite precision. Here we present different methods to compute numerically the value of $\\pi$. These methods are not particularly efficient, but they are presented as a way to illustrate some simple computational methods.\n",
    "\n",
    "* method 1: Archimedian's formula based on a polygonial approximation of the circle\n",
    "* method 2: arctan formula using the Taylor series expansion of the arctan function\n",
    "* method 3: use a recurrence formula based on the double factorial identity\n",
    "\n"
   ]
  },
  {
   "cell_type": "markdown",
   "metadata": {},
   "source": [
    "--------------\n",
    "* method 1: Archimedian's formulas using polygonal approximations of the circle of increasing edge numbers. \n",
    "https://www.mathworks.com/matlabcentral/mlc-downloads/downloads/submissions/29504/versions/23/previews/html/ComputationOfPiByArchimedes.html\n",
    "\n",
    "Using geometry, it is possible to compute the length of a polygone enclosing the circule with increasing number of sides. Starting from an hexagone (perimeter $P_6 = 6/\\sqrt{3}$), it is possible to compute the perimeter of a polygon with doubled number of edges, leading to a recursive formula of the form $P_{2k} = function(P_k)$.\n",
    "\n",
    "Here we use the following recursive formula:\n",
    "$$a_6 = \\sqrt{3}$$\n",
    "$$a_{2k} = a_k + \\sqrt{a_k^2+1}$$\n",
    "\n",
    "Then, $\\pi$ is approximated by the ratio $\\pi\\simeq k/a_k$.\n",
    "Let's implement here this recurrence formula."
   ]
  },
  {
   "cell_type": "code",
   "execution_count": 211,
   "metadata": {},
   "outputs": [
    {
     "name": "stdout",
     "output_type": "stream",
     "text": [
      "value: 3.1415926535908394, relative error: 3.33e-11%\n"
     ]
    }
   ],
   "source": [
    "import numpy as np\n",
    "\n",
    "N = 20 # number of iterations\n",
    "\n",
    "# init values\n",
    "k = 6\n",
    "a = np.sqrt(3)\n",
    "\n",
    "# iterate\n",
    "for n in range(1,N):\n",
    "    k = k * 2\n",
    "    a = a + np.sqrt(a**2 + 1)\n",
    "\n",
    "# final result\n",
    "pi_approx1 = k / a\n",
    "\n",
    "relative_error_pi(pi_approx1)"
   ]
  },
  {
   "cell_type": "code",
   "execution_count": 212,
   "metadata": {},
   "outputs": [
    {
     "name": "stdout",
     "output_type": "stream",
     "text": [
      "value: 3.1415926535908394, relative error: 3.33e-11%\n"
     ]
    }
   ],
   "source": [
    "# let's create a function to compute the N-order approximation\n",
    "def pi_archimede(N):\n",
    "    \n",
    "    import numpy as np\n",
    "    k = 6\n",
    "    a = np.sqrt(3)\n",
    "\n",
    "    for n in range(1,N):\n",
    "        k = k * 2\n",
    "        a = a + np.sqrt(a**2 + 1)\n",
    "\n",
    "    pi_approx = k / a\n",
    "\n",
    "    return pi_approx\n",
    "\n",
    "relative_error_pi(pi_archimede(20))"
   ]
  },
  {
   "cell_type": "code",
   "execution_count": 230,
   "metadata": {},
   "outputs": [
    {
     "data": {
      "text/plain": [
       "Text(0, 0.5, 'Error [%]')"
      ]
     },
     "execution_count": 230,
     "metadata": {},
     "output_type": "execute_result"
    },
    {
     "data": {
      "image/png": "[encoded data removed]",
      "text/plain": [
       "<Figure size 432x288 with 1 Axes>"
      ]
     },
     "metadata": {
      "needs_background": "light"
     },
     "output_type": "display_data"
    }
   ],
   "source": [
    "# plot error as a function of number of iterations\n",
    "N = 30\n",
    "iter_index = np.arange(N)+1\n",
    "pi_approx_table = np.zeros(N) # init a table to store values\n",
    "\n",
    "for n in range(N):\n",
    "    pi_approx_table[n] = pi_archimede(n+1)\n",
    "\n",
    "relative_error = np.abs((pi_approx_table-np.pi)/np.pi)*100\n",
    "\n",
    "import matplotlib.pyplot as plt\n",
    "plt.plot(iter_index,relative_error,'x')\n",
    "plt.xlabel('Number of iterations')\n",
    "plt.ylabel('Error [%]')"
   ]
  },
  {
   "cell_type": "code",
   "execution_count": 231,
   "metadata": {},
   "outputs": [
    {
     "data": {
      "text/plain": [
       "Text(0, 0.5, 'Error [log scale]')"
      ]
     },
     "execution_count": 231,
     "metadata": {},
     "output_type": "execute_result"
    },
    {
     "data": {
      "image/png": "[encoded data removed]",
      "text/plain": [
       "<Figure size 432x288 with 1 Axes>"
      ]
     },
     "metadata": {
      "needs_background": "light"
     },
     "output_type": "display_data"
    }
   ],
   "source": [
    "import matplotlib.pyplot as plt\n",
    "plt.plot(iter_index,np.log10(relative_error),'x')\n",
    "plt.xlabel('Number of iterations')\n",
    "plt.ylabel('Error [log scale]')"
   ]
  },
  {
   "cell_type": "markdown",
   "metadata": {},
   "source": [
    "**Note:** The precision that can be achieved is limited by the representation of floating-point numbers in the machine. Here, python uses a double precision, meaning numbers have a maximum possible precision of $10^{-14}$. For this reason, even if we increase the number of iterations, after a certain point, the precision remains fixed."
   ]
  },
  {
   "cell_type": "code",
   "execution_count": 169,
   "metadata": {},
   "outputs": [
    {
     "data": {
      "text/plain": [
       "1.1102230246251565e-15"
      ]
     },
     "execution_count": 169,
     "metadata": {},
     "output_type": "execute_result"
    }
   ],
   "source": [
    "1 + 1e-15 - 1"
   ]
  },
  {
   "cell_type": "code",
   "execution_count": 171,
   "metadata": {},
   "outputs": [
    {
     "data": {
      "text/plain": [
       "0.0"
      ]
     },
     "execution_count": 171,
     "metadata": {},
     "output_type": "execute_result"
    }
   ],
   "source": [
    "1 + 1e-16 - 1"
   ]
  },
  {
   "cell_type": "markdown",
   "metadata": {},
   "source": [
    "**Note 2:** We have cheated in fact as we have used the square root function, which is not a basic algebraic operation. It is possible to compute the square-root using a numerical method. This is in fact how Archimedes did it. Below we propose an implementation of the Babylonian's method (a.k.a. Heron's method).\n",
    "\n",
    "See https://en.wikipedia.org/wiki/Methods_of_computing_square_roots\n",
    "\n",
    "$$y_0 \\simeq \\sqrt{x}$$\n",
    "$$y_{k+1} = \\frac{1}{2}\\left(y_k + \\frac{x^2}{y_k}\\right)$$\n",
    "\n",
    "By iterating this relation, the value of $y_k$ will converge toward $\\sqrt{x}$."
   ]
  },
  {
   "cell_type": "code",
   "execution_count": 199,
   "metadata": {},
   "outputs": [
    {
     "data": {
      "text/plain": [
       "[<matplotlib.lines.Line2D at 0x7fda61bd4d68>]"
      ]
     },
     "execution_count": 199,
     "metadata": {},
     "output_type": "execute_result"
    },
    {
     "data": {
      "image/png": "[encoded data removed]",
      "text/plain": [
       "<Figure size 432x288 with 1 Axes>"
      ]
     },
     "metadata": {
      "needs_background": "light"
     },
     "output_type": "display_data"
    }
   ],
   "source": [
    "def square_root(x, N=5):\n",
    "\n",
    "    def base2_exponent(x):\n",
    "        n = 0\n",
    "        sign = 1\n",
    "        if x<1:\n",
    "            x = 1/x\n",
    "            sign = -1\n",
    "        while x>1:\n",
    "            x /= 4\n",
    "            n += 1\n",
    "        return sign*n\n",
    "\n",
    "    y = 2**base2_exponent(x)\n",
    "    for k in range(N):\n",
    "        y = (y + x/y)/2\n",
    "    return y\n",
    "\n",
    "X2 = 8**np.linspace(1,15,100)\n",
    "X = np.array( [square_root(X2[i]) for i in range(len(X2))] )\n",
    "relative_error = (X - np.sqrt(X2))/np.sqrt(X2)*100\n",
    "plt.plot(relative_error)"
   ]
  },
  {
   "cell_type": "markdown",
   "metadata": {},
   "source": [
    "--------------\n",
    "* method 2: Use Taylor series expansion of arctan\n",
    "https://en.wikipedia.org/wiki/Taylor_series#Trigonometric_functions\n",
    "\n",
    "    Many standard function can be written as an infinite sum of polynomial terms, the so-called Taylor series expansion. Under certain conditions, the terms of increasing orders becomes small providing an effective way to approximate the function by summing a finite number of these terms. The *arctan* function has a particularly simple Taylor series expansion that can be exploited to compute $\\pi$.\n",
    "    $$ arctan(x) = \\sum_{k=0}^\\infty{\\frac{(-1)^k}{2k+1}x^{2k+1}} $$\n",
    "    \n",
    "    Using the exact identity $\\pi = 4 * \\arctan (1)$, we obtain the formula:\n",
    "    $$ \\pi = 4 * \\sum_{k=0}^\\infty{\\frac{(-1)^k}{2k+1}} $$"
   ]
  },
  {
   "cell_type": "code",
   "execution_count": 226,
   "metadata": {},
   "outputs": [
    {
     "name": "stdout",
     "output_type": "stream",
     "text": [
      "value: 3.0418396189294032, relative error: 3.18%\n"
     ]
    }
   ],
   "source": [
    "N = 10\n",
    "s = 1\n",
    "\n",
    "for k in range(1,N):\n",
    "    s += (-1)**k / (2*k+1)\n",
    "pi_approx2 = 4*s\n",
    "\n",
    "relative_error_pi(pi_approx2)"
   ]
  },
  {
   "cell_type": "code",
   "execution_count": 227,
   "metadata": {},
   "outputs": [
    {
     "data": {
      "text/plain": [
       "Text(0, 0.5, 'Error [log scale]')"
      ]
     },
     "execution_count": 227,
     "metadata": {},
     "output_type": "execute_result"
    },
    {
     "data": {
      "image/png": "[encoded data removed]",
      "text/plain": [
       "<Figure size 432x288 with 1 Axes>"
      ]
     },
     "metadata": {
      "needs_background": "light"
     },
     "output_type": "display_data"
    }
   ],
   "source": [
    "# compute and plot the error as a function of the number of terms retained\n",
    "N = 100\n",
    "s = np.ones(N)\n",
    "\n",
    "for k in range(1,N):\n",
    "    s[k] = s[k-1] + (-1)**k / (2*k+1)\n",
    "pi_approx2 = 4*s\n",
    "\n",
    "import matplotlib.pyplot as plt\n",
    "plt.plot(np.arange(N),np.log10(np.abs(pi_approx2-pi)),'x')\n",
    "plt.xlabel('Number of terms')\n",
    "plt.ylabel('Error [log scale]')"
   ]
  },
  {
   "cell_type": "markdown",
   "metadata": {},
   "source": [
    "--------------\n",
    "* method 3: Use double factorial formula\n",
    "    $$\\frac{\\pi}{2} = \\sum_{k=0}^\\infty{\\frac{2^k k!^2}{(2k+1)!}}$$\n",
    "    \n",
    "    We can exploit the relation between consecutive terms in the sum.\n",
    "    $$ u_k = \\frac{2^k k!^2}{(2k+1)!} $$\n",
    "    can be equivalently defined using a recurrence formula,\n",
    "    $$u_0 = 1$$\n",
    "    $$u_k = \\frac{k}{2k+1} u_{k-1},\\, k>0$$\n",
    "    \n",
    "    and \n",
    "    $$\\pi \\simeq 2 * \\sum_{k=0}^N{u_k}$$"
   ]
  },
  {
   "cell_type": "markdown",
   "metadata": {},
   "source": [
    "Exercise: compute pi approximations and plot the error as a function of the number of terms used in the sum."
   ]
  },
  {
   "cell_type": "code",
   "execution_count": null,
   "metadata": {},
   "outputs": [],
   "source": []
  },
  {
   "cell_type": "markdown",
   "metadata": {},
   "source": [
    "--------------\n",
    "# Conclusion\n",
    "\n",
    "* A computer can perform only basic operations on finite precision numbers.\n",
    "* By default, modern computers uses a double precision, i.e. 64 bits floating-point numbers with a decimal precision of $10^{-15}$.\n",
    "* *numpy* is the specialized python module to manipulate arrays of floating-point numbers. Most scientific libraries are built on top of *numpy*.\n",
    "* A variety of algorithms exist to compute approximations of mathematical numbers and functions, often relying on iterative procedures.\n",
    "* *numpy* and *scipy* offer a large variety of optimized functions with efficient implementations of standard algorithms."
   ]
  },
  {
   "cell_type": "markdown",
   "metadata": {},
   "source": [
    "Exercise: Explain why the two results below differ:"
   ]
  }
 ],
 "metadata": {
  "kernelspec": {
   "display_name": "Python 3",
   "language": "python",
   "name": "python3"
  },
  "language_info": {
   "codemirror_mode": {
    "name": "ipython",
    "version": 3
   },
   "file_extension": ".py",
   "mimetype": "text/x-python",
   "name": "python",
   "nbconvert_exporter": "python",
   "pygments_lexer": "ipython3",
   "version": "3.6.8"
  }
 },
 "nbformat": 4,
 "nbformat_minor": 4
}
