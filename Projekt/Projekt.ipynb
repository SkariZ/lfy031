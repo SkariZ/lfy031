{
 "cells": [
  {
   "cell_type": "markdown",
   "metadata": {},
   "source": [
    "\n",
    "## **Projekt**  \n",
    "\n",
    "I kursen ska ni genomföra ett projekt där ni besvarar två frågeställningar.  \n",
    "\n",
    "* Hitta eller skapa två uppgifter, en i matematik och en i fysik, och använd Python för att lösa och illustrera viktiga koncept i uppgiften.  \n",
    "* Målgruppen är personer som lär sig programmering, så kommentera koden väl. Ni får använda koncept inom maskininlärning, men det är inget krav (de sista två föreläsningarna kommer att ta upp maskininlärning och neurala nätverk).  \n",
    "\n",
    "### **Exempel**  \n",
    "På träff 4 tittade vi på uppgifter från ett nationellt prov, exempelvis en enklare matematikuppgift om primtal och en mer omfattande uppgift om sannolikhet. Dessa kan fungera som inspiration. Se även `kaströrelse.py` i Föreläsning 4 på JupyterHub för en fysikuppgift.  \n",
    "\n",
    "Använd gärna dessa exempel som inspiration, men känn er fria att utforska egna idéer. Varje uppgift ska innehålla minst **en** visuell illustration, men gärna fler!  \n",
    "\n",
    "Nedan följer några projekt från tidigare år:  \n",
    "\n",
    "* Simulera rörelsen hos en matematisk pendel.  \n",
    "* Lös och visualisera alla rötter och extrempunkter för ett tredjegradspolynom.  \n",
    "* Approximera pi (se exempel på metoder: [Wikipedia](https://en.wikipedia.org/wiki/Approximations_of_%CF%80)).  \n",
    "* Implementera Runge-Kutta-metoden (modell över hur populationen av rovdjur och byte förändras över tid).  \n",
    "* Bestäm halveringstiden för Ba-137 utifrån experimentella data.  \n",
    "* Approximera en okänd funktion med hjälp av neurala nätverk.  \n",
    "* Beräkna försäkringskostnad baserat på en rad variabler med hjälp av linjär regression.  \n",
    "\n",
    "### **Praktiskt**  \n",
    "\n",
    "* **Deadline**: Onsdagen den 4 juni kl. 23:59.  \n",
    "* **Projektseminarium**: Torsdagen den 5 juni kl. 17:15.  \n",
    "\n",
    "Ett färdigt projekt ska innehålla:  \n",
    "\n",
    "✅ Två problemformuleringar (en från matematik och en från fysik).  \n",
    "✅ Två program som löser eller illustrerar koncepten i uppgifterna.  \n",
    "✅ Minst en visuell illustration per problemformulering.  \n",
    "✅ Tydlig problemformulering – antingen genom väl kommenterad kod eller en separat textfil (.pdf, .docx, .txt etc.).  \n",
    "\n",
    "Ni får använda JupyterHub, men minst ett av programmen ska vara fristående – det vill säga en eller flera **.py**-filer som kan köras direkt i Python.  \n",
    "\n",
    "Vid sista tillfället hålls ett seminarium där ni får redovisa era projekt för kurskamraterna. Detta moment är **inte obligatoriskt**, men det är högt uppskattat och mycket lärorikt. Förbered en 5–10 minuter lång presentation, exempelvis genom att:  \n",
    "\n",
    "📌 Bläddra i en Jupyter Notebook  \n",
    "📌 Visa figurer och grafer  \n",
    "📌 Skapa en PowerPoint  \n",
    "\n",
    "Var aktiva och ställ gärna frågor till varandra!  \n",
    "\n",
    "### **Inlämning**  \n",
    "Ladda upp era kodfiler (.py, .ipynb) samt eventuella textdokument (.pdf, .docx, .txt etc.) på Canvas under fliken **Uppgifter**.  "
   ]
  }
 ],
 "metadata": {
  "kernelspec": {
   "display_name": "Python 3 (ipykernel)",
   "language": "python",
   "name": "python3"
  },
  "language_info": {
   "codemirror_mode": {
    "name": "ipython",
    "version": 3
   },
   "file_extension": ".py",
   "mimetype": "text/x-python",
   "name": "python",
   "nbconvert_exporter": "python",
   "pygments_lexer": "ipython3",
   "version": "3.12.0"
  }
 },
 "nbformat": 4,
 "nbformat_minor": 4
}
