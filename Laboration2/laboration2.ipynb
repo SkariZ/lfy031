{
 "cells": [
  {
   "cell_type": "markdown",
   "metadata": {},
   "source": [
    "# Laboration 2: Statistik för namn i Sverige"
   ]
  },
  {
   "cell_type": "markdown",
   "metadata": {},
   "source": [
    "Hej och välkomna till Laboration 2 i kursen. Börja med att kopiera filen och döp om den till laboration2_<Förnamn><Efternamn>.ipynb.\n",
    "\n",
    "I filen `namn_2014_2019.csv` finns information om vilka namn som nyfödda fick året 2014 - 2019:"
   ]
  },
  {
   "cell_type": "markdown",
   "metadata": {},
   "source": [
    "```csv\n",
    "tilltalsnamn,2014,2015,2016,2017,2018,2019\n",
    "Aada,0,0,0,0,0,0\n",
    "Aadam,0,0,2,0,2,2\n",
    "Aadhya,2,2,0,0,2,0\n",
    "Aadil,0,0,0,0,0,0\n",
    "Aadvik,0,0,0,2,2,0\n",
    "Aadya,0,0,2,0,0,0\n",
    "Aahana,0,0,0,2,0,0\n",
    "Aahil,0,2,0,0,0,2\n",
    "Aaila,0,0,0,2,0,0\n",
    "Aaira,0,2,0,0,0,2\n",
    "Aairah,0,2,0,0,0,0\n",
    "Aaisha,2,0,0,0,0,0\n",
    "Aalaa,0,0,0,2,0,0\n",
    "Aaleyah,0,0,2,2,0,0\n",
    "Aalia,3,0,2,0,2,0\n",
    "Aaliya,2,4,4,4,0,0\n",
    "Aaliyah,6,14,10,26,21,26\n",
    "Aamina,0,2,0,0,0,0\n",
    "...\n",
    "```"
   ]
  },
  {
   "cell_type": "markdown",
   "metadata": {},
   "source": [
    "Datan är hämtat från [Statistiska centralbyrån](https://www.statistikdatabasen.scb.se/pxweb/sv/ssd/START__BE__BE0001__BE0001D/BE0001Nyfodda/)."
   ]
  },
  {
   "cell_type": "markdown",
   "metadata": {},
   "source": [
    "Filens namn slutar på `.csv` vilket står för \"Comma separated values\", dvs kommaseparerade värden. Detta är ett vanligt filformat för enklare data.\n",
    "\n",
    "Datan består av en tabell över alla namn och hur många nyfödda som fick respektive namn för åren 2014 - 2019. Första raden innehåller information om vad som finns i de olika kolumnerna medans resten av raderna innehåller själva datan.\n",
    "\n",
    "T.ex så kan vi läsa på andra namnraden att det var 2 st barn som fick namnet \"Aadam\" år 2016."
   ]
  },
  {
   "cell_type": "markdown",
   "metadata": {},
   "source": [
    "## Ladda datan till Python"
   ]
  },
  {
   "cell_type": "markdown",
   "metadata": {},
   "source": [
    "Python har inbyggt stöd för många filformat, bland annat CSV. Nedanstående cell läser in datan med hjälp av biblioteket `csv`."
   ]
  },
  {
   "cell_type": "code",
   "execution_count": 7,
   "metadata": {},
   "outputs": [],
   "source": [
    "import csv\n",
    "\n",
    "with open(\"namn_2014_2019.csv\", encoding=\"utf-8\") as csvfile:\n",
    "    namndata = list(csv.reader(csvfile))"
   ]
  },
  {
   "cell_type": "markdown",
   "metadata": {},
   "source": [
    "## Uppgift 1: Kontrollera innehållet i variabeln `namndata`.\n",
    "### 1.1 Vad har variabeln för typ?"
   ]
  },
  {
   "cell_type": "code",
   "execution_count": null,
   "metadata": {},
   "outputs": [],
   "source": []
  },
  {
   "cell_type": "markdown",
   "metadata": {},
   "source": [
    "### 1.2 Skriv ut de första 10 raderna (motsvarande listan ovan) av variabeln `namndata` och kontrollera att de överensstämmer (ni behöver bara titta visuellt på resultaten och övertyga er om att det är samma lista som ovan)."
   ]
  },
  {
   "cell_type": "code",
   "execution_count": null,
   "metadata": {},
   "outputs": [],
   "source": []
  },
  {
   "cell_type": "markdown",
   "metadata": {},
   "source": [
    "Notera att innehållet här alltså är en lista av listor. Varje element i den första listan är en ny lista som motsvara kolumnerna."
   ]
  },
  {
   "cell_type": "markdown",
   "metadata": {},
   "source": [
    "### 1.3 Skriv ut de 10 sista raderna"
   ]
  },
  {
   "cell_type": "code",
   "execution_count": null,
   "metadata": {
    "scrolled": true
   },
   "outputs": [],
   "source": []
  },
  {
   "cell_type": "markdown",
   "metadata": {},
   "source": [
    "### 1.4 Ta reda på hur många rader totalt det finns i listan"
   ]
  },
  {
   "cell_type": "code",
   "execution_count": null,
   "metadata": {},
   "outputs": [],
   "source": []
  },
  {
   "cell_type": "markdown",
   "metadata": {},
   "source": [
    "## Konvertera heltalsdatan från strängar till tal"
   ]
  },
  {
   "cell_type": "markdown",
   "metadata": {},
   "source": [
    "Notera att siffrorna ovan har citationstecken runt sig, det betyder att de är tolkade som strängar. För att kunna jobba vidare med datan behöver vi först konvertera dessa strängar till deras motsvarande tal.\n",
    "\n",
    "Den intresserade kan studera nedanstående cell men det är inte nödvändigt för denna övning, kör cellen för att göra den numeriska datan tillgänglig i variabeln `namndata_tal`."
   ]
  },
  {
   "cell_type": "code",
   "execution_count": 4,
   "metadata": {},
   "outputs": [],
   "source": [
    "# Skapa en ny tom lista\n",
    "namndata_tal = []\n",
    "# Loopa över alla raden i datan\n",
    "for rad in namndata:\n",
    "    # Skapa en ny rad som innehåller namnet\n",
    "    ny_rad = [rad[0]] # Position 0 i varje rad innehåller ett namn\n",
    "    # Loopa över alla år, dvs alla element förutom första\n",
    "    for ar in rad[1:]:\n",
    "        # Lägg till antalet nyfödda detta år konverterat till ett heltal\n",
    "        ny_rad += [int(ar)]\n",
    "    # Lägg till nya raden till nya listan\n",
    "    namndata_tal += [ny_rad]"
   ]
  },
  {
   "cell_type": "markdown",
   "metadata": {},
   "source": [
    "<div style=\"background: #FFE; padding: 2em\">\n",
    "<h2>\n",
    "<span style=\"color:green;\">\n",
    "    För uppgifterna nedan så är det viktigt att du behåller variabelnamnet för svaret. Du kan lägga till kod innan och efter om du vill, men någonstans behöver detta variabelnamn tilldelas!\n",
    "</span>\n",
    "    </h2></div>"
   ]
  },
  {
   "cell_type": "markdown",
   "metadata": {},
   "source": [
    "### 1.5 Hur många namn finns med i statistiken?"
   ]
  },
  {
   "cell_type": "code",
   "execution_count": null,
   "metadata": {},
   "outputs": [],
   "source": [
    "antal_namn = "
   ]
  },
  {
   "cell_type": "markdown",
   "metadata": {},
   "source": [
    "## Uppgift 2: Hitta information om specifika namn"
   ]
  },
  {
   "cell_type": "markdown",
   "metadata": {},
   "source": [
    "### 2.1 Hur många nyfödda fick namnet `Luna` 2014?"
   ]
  },
  {
   "cell_type": "code",
   "execution_count": null,
   "metadata": {},
   "outputs": [],
   "source": [
    "antal_luna_2014 = "
   ]
  },
  {
   "cell_type": "markdown",
   "metadata": {},
   "source": [
    "### 2.1 Hur många nyfödda fick namnet `Luna` 2019?"
   ]
  },
  {
   "cell_type": "code",
   "execution_count": null,
   "metadata": {},
   "outputs": [],
   "source": [
    "antal_luna_2019 = "
   ]
  },
  {
   "cell_type": "markdown",
   "metadata": {},
   "source": [
    "## Uppgift 3: Vanligaste namn"
   ]
  },
  {
   "cell_type": "markdown",
   "metadata": {},
   "source": [
    "### 3.1 Vilket var det vanligaste namnet 2014?"
   ]
  },
  {
   "cell_type": "code",
   "execution_count": null,
   "metadata": {},
   "outputs": [],
   "source": [
    "vanligaste_2014 ="
   ]
  },
  {
   "cell_type": "markdown",
   "metadata": {},
   "source": [
    "### 3.2 Vilket var det vanligaste namnet 2019?"
   ]
  },
  {
   "cell_type": "code",
   "execution_count": null,
   "metadata": {},
   "outputs": [],
   "source": [
    "vanligaste_2019 ="
   ]
  },
  {
   "cell_type": "markdown",
   "metadata": {},
   "source": [
    "## Uppgift 4: Hur många namn i datan början på en specifik bokstav?"
   ]
  },
  {
   "cell_type": "markdown",
   "metadata": {},
   "source": [
    "### 4.1 Hur många namn i datan början på bokstaven \"T\"?"
   ]
  },
  {
   "cell_type": "code",
   "execution_count": null,
   "metadata": {},
   "outputs": [],
   "source": [
    "antal_t = "
   ]
  },
  {
   "cell_type": "markdown",
   "metadata": {},
   "source": [
    "### 4.2 Hur många namn i datan början på bokstaven \"M\"?"
   ]
  },
  {
   "cell_type": "code",
   "execution_count": null,
   "metadata": {},
   "outputs": [],
   "source": [
    "antal_m = "
   ]
  },
  {
   "cell_type": "markdown",
   "metadata": {},
   "source": [
    "## Uppgift 5: Vilken är den näst vanligaste bokstaven som namn börjar på?"
   ]
  },
  {
   "cell_type": "code",
   "execution_count": null,
   "metadata": {},
   "outputs": [],
   "source": [
    "nast_vanligaste = "
   ]
  },
  {
   "cell_type": "markdown",
   "metadata": {},
   "source": [
    "## Uppgift 6: Utmaning - **inte obligatorisk**\n",
    "\n",
    "Uppgifterna nedan är något svårare, och därav inte obligatoriska. Om ni har tid och lust försök även göra dessa!\n"
   ]
  },
  {
   "cell_type": "markdown",
   "metadata": {},
   "source": [
    "### 6.1: Vilket år föddes flest barn totalt?"
   ]
  },
  {
   "cell_type": "code",
   "execution_count": null,
   "metadata": {},
   "outputs": [],
   "source": [
    "år_flest_barn ="
   ]
  },
  {
   "cell_type": "markdown",
   "metadata": {},
   "source": [
    "### 6.2 Vad är medelvärdet av antalet nyfödda per år? Och vad är medianen och standardavvikelsen? (Tips: Ni kan använda `numpy` biblioteket för att räkna ut dessa värden)"
   ]
  },
  {
   "cell_type": "code",
   "execution_count": null,
   "metadata": {},
   "outputs": [],
   "source": [
    "medelvarde_år =\n",
    "median_år =\n",
    "std_år = "
   ]
  },
  {
   "cell_type": "markdown",
   "metadata": {},
   "source": [
    "### 6.3 Vilket år föddes flest barn med namn som börjar på bokstaven \"A\"?"
   ]
  },
  {
   "cell_type": "code",
   "execution_count": null,
   "metadata": {},
   "outputs": [],
   "source": [
    "år_flest_barn_a = "
   ]
  },
  {
   "cell_type": "markdown",
   "metadata": {},
   "source": [
    "### 6.4: Vilka 3 bokstäver används mest totalt sett i namn?"
   ]
  },
  {
   "cell_type": "code",
   "execution_count": null,
   "metadata": {},
   "outputs": [],
   "source": [
    "top_3_bokstaver ="
   ]
  },
  {
   "cell_type": "markdown",
   "metadata": {},
   "source": [
    "### 6.5: Vilka var de tre mest populära palindrom-namnen år 2019? (Dvs. namn som stavas likadant från båda hållen, bortse från stor bokstav!)"
   ]
  },
  {
   "cell_type": "code",
   "execution_count": null,
   "metadata": {},
   "outputs": [],
   "source": [
    "top_3_anagram_namn = "
   ]
  }
 ],
 "metadata": {
  "kernelspec": {
   "display_name": "torchenv",
   "language": "python",
   "name": "python3"
  },
  "language_info": {
   "codemirror_mode": {
    "name": "ipython",
    "version": 3
   },
   "file_extension": ".py",
   "mimetype": "text/x-python",
   "name": "python",
   "nbconvert_exporter": "python",
   "pygments_lexer": "ipython3",
   "version": "3.12.0"
  }
 },
 "nbformat": 4,
 "nbformat_minor": 4
}
