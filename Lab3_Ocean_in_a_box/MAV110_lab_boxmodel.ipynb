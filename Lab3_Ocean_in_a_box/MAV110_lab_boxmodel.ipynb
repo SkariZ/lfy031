{
 "cells": [
  {
   "cell_type": "markdown",
   "metadata": {},
   "source": [
    "# Instructions for the lab: Ocean in a Box\n",
    "\n",
    "MAV110\n",
    "\n",
    "The goal of this lab session is provide practice examples for making simple box models and using differential equations and Python in the context of marine chemistry and oceanography.\n",
    "\n",
    "- Learn how to solve a 1st order linear ordinary differential equation \n",
    "- To solve the equation numerically, and study how the numerical solution may compare with the analytical solution\n",
    "- Gain a better understanding on how models may be used to study a physical problem.\n",
    "\n",
    "Hand in the report on Canvas as a file in ipynb format. Once you have finished filling in the notebook with your code and answers, upload it on Canvas in the corresponding assignement. "
   ]
  },
  {
   "cell_type": "markdown",
   "metadata": {},
   "source": [
    "--------\n",
    "--------\n",
    "## Warming a tank of water in contact with the air\n",
    "--------\n",
    "Let’s consider the case of a tank that is exchanging heat at the surface with the ambient air. Let’s assume that the water in the tank is at the ambient air temperature $T_o=T_{air}=20^oC$ before we turn the heater on, so that the heat flux exchanged with the atmosphere is $Q_{air}(t=0)=0W$. But as soon as we turn the heater on, the temperature in the tank starts to increase leading to a difference of temperature with the ambient air generating a heat flux. \n",
    "\n",
    "We heat water, say at a rate Q [in $W$, i.e. in $J s^{-1}$], this changes the temperature T [$^oC$] of the water. This is the consequence of the conservation principle, heat is not created or destroyed and we need to provide a full account of how much we have. \n",
    "\n",
    "In short, we have a flow of something that changes the total content of something: mathematically we have a temperature change driven by a heat flux; \n",
    "that is:\n",
    "\n",
    "$C_p\\frac{dT}{dt}=Q$.\n",
    "\n",
    "Here $C_p$ is the heat capacity of water, which measures how much heat is required to warm the water by one degree Celsius. The heat capacity can be obtained as the product of water density times the volume times the specific heat capacity:\n",
    "\n",
    "$C_p = \\rho \\times V \\times c_p$\n",
    "\n",
    "where water density is approximately $\\rho = 1000 kg\\,m^{-3}$, the volume of water in the tank that we will consider is fixed at $V=1m^3$, and the specific heat capacity (defined as the heat capacity of one kilogram of water) is approximately $c_p = 4000 J (^oC)^{-1} kg^{-1}$. The specific heat capacity is an intrinsic property of water that is known empirically from laboratory measurements. It is a function of temperature, salinity and pressure but we will here neglect these variations and therefore consider that it is constant.\n",
    "\n",
    "We will assume that the heat flux to the atmosphere is proportional to the temperature difference:\n",
    "$Q_{air}(T) = \\lambda (T_{air} - T)$\n",
    "\n",
    "Note that $Q_{air}$ is negative when the water temperature is larger than the ambient air temperature, which is expected as in that case the tank will be losing heat to the atmosphere.\n",
    "\n",
    "For simplicity, the relaxation coefficient $\\lambda$ is taken constant. For numerical applications, we will use $\\lambda = 3\\,x10^{4} W K^{-1}$\n"
   ]
  },
  {
   "cell_type": "markdown",
   "metadata": {},
   "source": [
    "-------\n",
    "**Question 1**: Derive a differential equation describing the rate of change of the water temperature T as a function of the heat flux $Q_{heater}$ applied by the heater, and the ambient air temperature $T_{air}$. \n",
    "\n",
    "Answer 1: \n",
    "\n",
    "$\\frac{dT}{dt} = ?$\n",
    "\n"
   ]
  },
  {
   "cell_type": "markdown",
   "metadata": {},
   "source": [
    "--------\n",
    "**Question 2**: Determine the water temperature $T_{\\infty}$ toward which the water temperature will tend, by analyzing the equilibrium solution of the differential equation (obtained by zero-ing the time derivative term). Calculate the value of $T_{\\infty}$ for a tank being warmed at a rate of $Q_{heater}=10^4W$.\n",
    "\n",
    "Answer 2:\n",
    "\n",
    "$T_{\\infty} = ?$"
   ]
  },
  {
   "cell_type": "code",
   "execution_count": null,
   "metadata": {},
   "outputs": [],
   "source": [
    "T_infinity = xxx"
   ]
  },
  {
   "cell_type": "markdown",
   "metadata": {},
   "source": [
    "--------\n",
    "**Question 3**: Solve analytically the differential equation and find an expression for T as a function of time t>0, considering that the heater was turned on at t=0. Check that T tends toward $T_{\\infty}$ after a while. What is the characteristic time scale $\\tau$ that sets how fast the steady-state is reached?\n",
    "\n",
    "Answer 3:\n",
    "\n",
    "Write steps to derive solution.\n",
    "\n",
    "Analytic solution:\n",
    "$T(t) = ?$"
   ]
  },
  {
   "cell_type": "code",
   "execution_count": null,
   "metadata": {},
   "outputs": [],
   "source": [
    "# Compute time evolution of temperature\n",
    "import numpy as np\n",
    "\n",
    "# model parameters\n",
    "V = 1   # volume of the tank\n",
    "Q_heater = xx   # imposed heat flux (in W)\n",
    "lamb     = xx   # relaxation constant\n",
    "\n",
    "# time-scale [in seconds]\n",
    "tau = xxx\n",
    "\n",
    "t_step = 1.  # timestep used for integration (in seconds)\n",
    "t_max  = tau*5 # total integration time (in seconds)\n",
    "t = np.arange(0,t_max+t_step,t_step)  # array storing the discrete time steps (in seconds)\n",
    "print('time array:',t)\n",
    "\n",
    "#analytic solution\n",
    "T_analytic = xxx"
   ]
  },
  {
   "cell_type": "markdown",
   "metadata": {},
   "source": [
    "--------\n",
    "**Question 4**: Solve the equation numerically using python, by discretizing the equation in time using an explicit scheme, using $Q_{heater}=10^4W$ as in Question 2. \n",
    "\n",
    "Here again, this means that an expression of the form: $T^{n+1}=T^n+\\Delta t \\times f_2(T^n)$ must be found and numerically integrated, where the function $f_2$ is an explicit function of the water temperature at the previous time step $T^n$.\n",
    "\n",
    "Hint: be sure to make the time of integration long enough to reach a near equilibrium state. "
   ]
  },
  {
   "cell_type": "code",
   "execution_count": null,
   "metadata": {},
   "outputs": [],
   "source": [
    "import numpy as np\n",
    "\n",
    "# model parameters\n",
    "V = 1   # volume of the tank\n",
    "Q_heater = xx   # imposed heat flux (in W)\n",
    "lamb     = xx   # relaxation constant\n",
    "\n",
    "# time-scale [in seconds]\n",
    "tau = xxx\n",
    "\n",
    "t_step = 1.  # timestep used for integration (in seconds)\n",
    "t_max  = tau*5 # total integration time (in seconds)\n",
    "t = np.arange(0,t_max+t_step,t_step)  # array storing the discrete time steps (in seconds)\n",
    "\n",
    "# create storage variables\n",
    "T = t*0  # temperature array (same size as time array, initialized with zeros)\n",
    "N = len(t)-1 # number of iterations equal to size of time array minus 1\n",
    "\n",
    "# initialization\n",
    "T[0] = xxx\n",
    "\n",
    "# model integration\n",
    "for n in range(N):\n",
    "    Q_air  = xxx\n",
    "    T[n+1] = T[n] + xxx\n",
    "    "
   ]
  },
  {
   "cell_type": "code",
   "execution_count": null,
   "metadata": {},
   "outputs": [],
   "source": [
    "# plot temperature as a function of time\n",
    "import matplotlib.pyplot as plt\n",
    "plt.plot(t,T,'.-')\n",
    "plt.xlabel('Time [s]')\n",
    "plt.ylabel('Temperature [degC]')\n",
    "\n",
    "print(f'Temperature increase at time t={t_max}s is {T[-1]-T[0]} degC')"
   ]
  },
  {
   "cell_type": "code",
   "execution_count": null,
   "metadata": {},
   "outputs": [],
   "source": [
    "# check that numerical and analytic solutions are equal\n",
    "import matplotlib.pyplot as plt\n",
    "plt.plot(t,T-T_analytic,'.-')\n",
    "plt.xlabel('Time [s]')\n",
    "plt.ylabel('Temperature error [degC]')\n",
    "\n",
    "print(f'Temperature error at time t={t_max}s is {T[-1]-T_analytic[-1]} degC')"
   ]
  }
 ],
 "metadata": {
  "kernelspec": {
   "display_name": "Python 3",
   "language": "python",
   "name": "python3"
  },
  "language_info": {
   "codemirror_mode": {
    "name": "ipython",
    "version": 3
   },
   "file_extension": ".py",
   "mimetype": "text/x-python",
   "name": "python",
   "nbconvert_exporter": "python",
   "pygments_lexer": "ipython3",
   "version": "3.8.3"
  }
 },
 "nbformat": 4,
 "nbformat_minor": 4
}
